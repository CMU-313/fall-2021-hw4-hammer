{
 "cells": [
  {
   "cell_type": "markdown",
   "metadata": {},
   "source": [
    "### Creating and Persisting an ML Model"
   ]
  },
  {
   "cell_type": "code",
   "execution_count": 1,
   "metadata": {},
   "outputs": [],
   "source": [
    "# import os\n",
    "# os.environ['KMP_DUPLICATE_LIB_OK']='True'"
   ]
  },
  {
   "cell_type": "code",
   "execution_count": 2,
   "metadata": {},
   "outputs": [],
   "source": [
    "#invite people for the Kaggle party\n",
    "import pandas as pd\n",
    "import matplotlib.pyplot as plt\n",
    "import seaborn as sns\n",
    "import numpy as np\n",
    "from scipy.stats import norm\n",
    "from sklearn.preprocessing import StandardScaler\n",
    "from scipy import stats\n",
    "import warnings\n",
    "warnings.filterwarnings('ignore')\n",
    "%matplotlib inline"
   ]
  },
  {
   "cell_type": "code",
   "execution_count": 3,
   "metadata": {},
   "outputs": [],
   "source": [
    "from sklearn import svm, tree, linear_model, neighbors, naive_bayes, ensemble, discriminant_analysis, gaussian_process\n",
    "from xgboost import XGBClassifier\n",
    "from sklearn.preprocessing import OneHotEncoder, LabelEncoder\n",
    "from sklearn import feature_selection\n",
    "from sklearn import model_selection\n",
    "from sklearn import metrics\n",
    "from sklearn.ensemble import RandomForestClassifier, AdaBoostClassifier, GradientBoostingClassifier, ExtraTreesClassifier, VotingClassifier\n",
    "from sklearn.discriminant_analysis import LinearDiscriminantAnalysis\n",
    "from sklearn.linear_model import LogisticRegression, Ridge, LinearRegression\n",
    "from sklearn.neighbors import KNeighborsClassifier\n",
    "from sklearn.tree import DecisionTreeClassifier\n",
    "from sklearn.neural_network import MLPClassifier\n",
    "from sklearn.svm import SVC\n",
    "from sklearn.model_selection import GridSearchCV, cross_val_score, StratifiedKFold, learning_curve\n",
    "from sklearn.model_selection import train_test_split\n",
    "from sklearn.svm import SVR\n",
    "from sklearn.kernel_ridge import KernelRidge\n",
    "from sklearn.feature_selection import SelectFromModel\n",
    "from sklearn.pipeline import make_pipeline\n",
    "from sklearn.preprocessing import StandardScaler, MinMaxScaler, Normalizer\n"
   ]
  },
  {
   "cell_type": "markdown",
   "metadata": {},
   "source": [
    "# Import Data"
   ]
  },
  {
   "cell_type": "code",
   "execution_count": 4,
   "metadata": {
    "scrolled": true
   },
   "outputs": [
    {
     "data": {
      "text/plain": [
       "Index(['school', 'sex', 'age', 'address', 'famsize', 'Pstatus', 'Medu', 'Fedu',\n",
       "       'Mjob', 'Fjob', 'reason', 'guardian', 'traveltime', 'studytime',\n",
       "       'failures', 'schoolsup', 'famsup', 'paid', 'activities', 'nursery',\n",
       "       'higher', 'internet', 'romantic', 'famrel', 'freetime', 'goout', 'Dalc',\n",
       "       'Walc', 'health', 'absences', 'G1', 'G2', 'G3'],\n",
       "      dtype='object')"
      ]
     },
     "execution_count": 4,
     "metadata": {},
     "output_type": "execute_result"
    }
   ],
   "source": [
    "df = pd.read_csv('data/student-mat.csv', sep=';')\n",
    "df.columns"
   ]
  },
  {
   "cell_type": "markdown",
   "metadata": {},
   "source": [
    "# Quick Peek at Data"
   ]
  },
  {
   "cell_type": "code",
   "execution_count": 5,
   "metadata": {},
   "outputs": [
    {
     "data": {
      "text/plain": [
       "Index(['school', 'sex', 'age', 'address', 'famsize', 'Pstatus', 'Medu', 'Fedu',\n",
       "       'Mjob', 'Fjob', 'reason', 'guardian', 'traveltime', 'studytime',\n",
       "       'failures', 'schoolsup', 'famsup', 'paid', 'activities', 'nursery',\n",
       "       'higher', 'internet', 'romantic', 'famrel', 'freetime', 'goout', 'Dalc',\n",
       "       'Walc', 'health', 'absences', 'G1', 'G2', 'G3'],\n",
       "      dtype='object')"
      ]
     },
     "execution_count": 5,
     "metadata": {},
     "output_type": "execute_result"
    }
   ],
   "source": [
    "df.columns"
   ]
  },
  {
   "cell_type": "code",
   "execution_count": 6,
   "metadata": {
    "scrolled": true
   },
   "outputs": [
    {
     "name": "stdout",
     "output_type": "stream",
     "text": [
      "<class 'pandas.core.frame.DataFrame'>\n",
      "RangeIndex: 395 entries, 0 to 394\n",
      "Data columns (total 33 columns):\n",
      " #   Column      Non-Null Count  Dtype \n",
      "---  ------      --------------  ----- \n",
      " 0   school      395 non-null    object\n",
      " 1   sex         395 non-null    object\n",
      " 2   age         395 non-null    int64 \n",
      " 3   address     395 non-null    object\n",
      " 4   famsize     395 non-null    object\n",
      " 5   Pstatus     395 non-null    object\n",
      " 6   Medu        395 non-null    int64 \n",
      " 7   Fedu        395 non-null    int64 \n",
      " 8   Mjob        395 non-null    object\n",
      " 9   Fjob        395 non-null    object\n",
      " 10  reason      395 non-null    object\n",
      " 11  guardian    395 non-null    object\n",
      " 12  traveltime  395 non-null    int64 \n",
      " 13  studytime   395 non-null    int64 \n",
      " 14  failures    395 non-null    int64 \n",
      " 15  schoolsup   395 non-null    object\n",
      " 16  famsup      395 non-null    object\n",
      " 17  paid        395 non-null    object\n",
      " 18  activities  395 non-null    object\n",
      " 19  nursery     395 non-null    object\n",
      " 20  higher      395 non-null    object\n",
      " 21  internet    395 non-null    object\n",
      " 22  romantic    395 non-null    object\n",
      " 23  famrel      395 non-null    int64 \n",
      " 24  freetime    395 non-null    int64 \n",
      " 25  goout       395 non-null    int64 \n",
      " 26  Dalc        395 non-null    int64 \n",
      " 27  Walc        395 non-null    int64 \n",
      " 28  health      395 non-null    int64 \n",
      " 29  absences    395 non-null    int64 \n",
      " 30  G1          395 non-null    int64 \n",
      " 31  G2          395 non-null    int64 \n",
      " 32  G3          395 non-null    int64 \n",
      "dtypes: int64(16), object(17)\n",
      "memory usage: 102.0+ KB\n"
     ]
    }
   ],
   "source": [
    "df.info()"
   ]
  },
  {
   "cell_type": "markdown",
   "metadata": {},
   "source": [
    "No missing data! Yay. "
   ]
  },
  {
   "cell_type": "code",
   "execution_count": 7,
   "metadata": {
    "scrolled": true
   },
   "outputs": [
    {
     "data": {
      "text/html": [
       "<div>\n",
       "<style scoped>\n",
       "    .dataframe tbody tr th:only-of-type {\n",
       "        vertical-align: middle;\n",
       "    }\n",
       "\n",
       "    .dataframe tbody tr th {\n",
       "        vertical-align: top;\n",
       "    }\n",
       "\n",
       "    .dataframe thead th {\n",
       "        text-align: right;\n",
       "    }\n",
       "</style>\n",
       "<table border=\"1\" class=\"dataframe\">\n",
       "  <thead>\n",
       "    <tr style=\"text-align: right;\">\n",
       "      <th></th>\n",
       "      <th>age</th>\n",
       "      <th>Medu</th>\n",
       "      <th>Fedu</th>\n",
       "      <th>traveltime</th>\n",
       "      <th>studytime</th>\n",
       "      <th>failures</th>\n",
       "      <th>famrel</th>\n",
       "      <th>freetime</th>\n",
       "      <th>goout</th>\n",
       "      <th>Dalc</th>\n",
       "      <th>Walc</th>\n",
       "      <th>health</th>\n",
       "      <th>absences</th>\n",
       "      <th>G1</th>\n",
       "      <th>G2</th>\n",
       "      <th>G3</th>\n",
       "    </tr>\n",
       "  </thead>\n",
       "  <tbody>\n",
       "    <tr>\n",
       "      <th>count</th>\n",
       "      <td>395.000000</td>\n",
       "      <td>395.000000</td>\n",
       "      <td>395.000000</td>\n",
       "      <td>395.000000</td>\n",
       "      <td>395.000000</td>\n",
       "      <td>395.000000</td>\n",
       "      <td>395.000000</td>\n",
       "      <td>395.000000</td>\n",
       "      <td>395.000000</td>\n",
       "      <td>395.000000</td>\n",
       "      <td>395.000000</td>\n",
       "      <td>395.000000</td>\n",
       "      <td>395.000000</td>\n",
       "      <td>395.000000</td>\n",
       "      <td>395.000000</td>\n",
       "      <td>395.000000</td>\n",
       "    </tr>\n",
       "    <tr>\n",
       "      <th>mean</th>\n",
       "      <td>16.696203</td>\n",
       "      <td>2.749367</td>\n",
       "      <td>2.521519</td>\n",
       "      <td>1.448101</td>\n",
       "      <td>2.035443</td>\n",
       "      <td>0.334177</td>\n",
       "      <td>3.944304</td>\n",
       "      <td>3.235443</td>\n",
       "      <td>3.108861</td>\n",
       "      <td>1.481013</td>\n",
       "      <td>2.291139</td>\n",
       "      <td>3.554430</td>\n",
       "      <td>5.708861</td>\n",
       "      <td>10.908861</td>\n",
       "      <td>10.713924</td>\n",
       "      <td>10.415190</td>\n",
       "    </tr>\n",
       "    <tr>\n",
       "      <th>std</th>\n",
       "      <td>1.276043</td>\n",
       "      <td>1.094735</td>\n",
       "      <td>1.088201</td>\n",
       "      <td>0.697505</td>\n",
       "      <td>0.839240</td>\n",
       "      <td>0.743651</td>\n",
       "      <td>0.896659</td>\n",
       "      <td>0.998862</td>\n",
       "      <td>1.113278</td>\n",
       "      <td>0.890741</td>\n",
       "      <td>1.287897</td>\n",
       "      <td>1.390303</td>\n",
       "      <td>8.003096</td>\n",
       "      <td>3.319195</td>\n",
       "      <td>3.761505</td>\n",
       "      <td>4.581443</td>\n",
       "    </tr>\n",
       "    <tr>\n",
       "      <th>min</th>\n",
       "      <td>15.000000</td>\n",
       "      <td>0.000000</td>\n",
       "      <td>0.000000</td>\n",
       "      <td>1.000000</td>\n",
       "      <td>1.000000</td>\n",
       "      <td>0.000000</td>\n",
       "      <td>1.000000</td>\n",
       "      <td>1.000000</td>\n",
       "      <td>1.000000</td>\n",
       "      <td>1.000000</td>\n",
       "      <td>1.000000</td>\n",
       "      <td>1.000000</td>\n",
       "      <td>0.000000</td>\n",
       "      <td>3.000000</td>\n",
       "      <td>0.000000</td>\n",
       "      <td>0.000000</td>\n",
       "    </tr>\n",
       "    <tr>\n",
       "      <th>25%</th>\n",
       "      <td>16.000000</td>\n",
       "      <td>2.000000</td>\n",
       "      <td>2.000000</td>\n",
       "      <td>1.000000</td>\n",
       "      <td>1.000000</td>\n",
       "      <td>0.000000</td>\n",
       "      <td>4.000000</td>\n",
       "      <td>3.000000</td>\n",
       "      <td>2.000000</td>\n",
       "      <td>1.000000</td>\n",
       "      <td>1.000000</td>\n",
       "      <td>3.000000</td>\n",
       "      <td>0.000000</td>\n",
       "      <td>8.000000</td>\n",
       "      <td>9.000000</td>\n",
       "      <td>8.000000</td>\n",
       "    </tr>\n",
       "    <tr>\n",
       "      <th>50%</th>\n",
       "      <td>17.000000</td>\n",
       "      <td>3.000000</td>\n",
       "      <td>2.000000</td>\n",
       "      <td>1.000000</td>\n",
       "      <td>2.000000</td>\n",
       "      <td>0.000000</td>\n",
       "      <td>4.000000</td>\n",
       "      <td>3.000000</td>\n",
       "      <td>3.000000</td>\n",
       "      <td>1.000000</td>\n",
       "      <td>2.000000</td>\n",
       "      <td>4.000000</td>\n",
       "      <td>4.000000</td>\n",
       "      <td>11.000000</td>\n",
       "      <td>11.000000</td>\n",
       "      <td>11.000000</td>\n",
       "    </tr>\n",
       "    <tr>\n",
       "      <th>75%</th>\n",
       "      <td>18.000000</td>\n",
       "      <td>4.000000</td>\n",
       "      <td>3.000000</td>\n",
       "      <td>2.000000</td>\n",
       "      <td>2.000000</td>\n",
       "      <td>0.000000</td>\n",
       "      <td>5.000000</td>\n",
       "      <td>4.000000</td>\n",
       "      <td>4.000000</td>\n",
       "      <td>2.000000</td>\n",
       "      <td>3.000000</td>\n",
       "      <td>5.000000</td>\n",
       "      <td>8.000000</td>\n",
       "      <td>13.000000</td>\n",
       "      <td>13.000000</td>\n",
       "      <td>14.000000</td>\n",
       "    </tr>\n",
       "    <tr>\n",
       "      <th>max</th>\n",
       "      <td>22.000000</td>\n",
       "      <td>4.000000</td>\n",
       "      <td>4.000000</td>\n",
       "      <td>4.000000</td>\n",
       "      <td>4.000000</td>\n",
       "      <td>3.000000</td>\n",
       "      <td>5.000000</td>\n",
       "      <td>5.000000</td>\n",
       "      <td>5.000000</td>\n",
       "      <td>5.000000</td>\n",
       "      <td>5.000000</td>\n",
       "      <td>5.000000</td>\n",
       "      <td>75.000000</td>\n",
       "      <td>19.000000</td>\n",
       "      <td>19.000000</td>\n",
       "      <td>20.000000</td>\n",
       "    </tr>\n",
       "  </tbody>\n",
       "</table>\n",
       "</div>"
      ],
      "text/plain": [
       "              age        Medu        Fedu  traveltime   studytime    failures  \\\n",
       "count  395.000000  395.000000  395.000000  395.000000  395.000000  395.000000   \n",
       "mean    16.696203    2.749367    2.521519    1.448101    2.035443    0.334177   \n",
       "std      1.276043    1.094735    1.088201    0.697505    0.839240    0.743651   \n",
       "min     15.000000    0.000000    0.000000    1.000000    1.000000    0.000000   \n",
       "25%     16.000000    2.000000    2.000000    1.000000    1.000000    0.000000   \n",
       "50%     17.000000    3.000000    2.000000    1.000000    2.000000    0.000000   \n",
       "75%     18.000000    4.000000    3.000000    2.000000    2.000000    0.000000   \n",
       "max     22.000000    4.000000    4.000000    4.000000    4.000000    3.000000   \n",
       "\n",
       "           famrel    freetime       goout        Dalc        Walc      health  \\\n",
       "count  395.000000  395.000000  395.000000  395.000000  395.000000  395.000000   \n",
       "mean     3.944304    3.235443    3.108861    1.481013    2.291139    3.554430   \n",
       "std      0.896659    0.998862    1.113278    0.890741    1.287897    1.390303   \n",
       "min      1.000000    1.000000    1.000000    1.000000    1.000000    1.000000   \n",
       "25%      4.000000    3.000000    2.000000    1.000000    1.000000    3.000000   \n",
       "50%      4.000000    3.000000    3.000000    1.000000    2.000000    4.000000   \n",
       "75%      5.000000    4.000000    4.000000    2.000000    3.000000    5.000000   \n",
       "max      5.000000    5.000000    5.000000    5.000000    5.000000    5.000000   \n",
       "\n",
       "         absences          G1          G2          G3  \n",
       "count  395.000000  395.000000  395.000000  395.000000  \n",
       "mean     5.708861   10.908861   10.713924   10.415190  \n",
       "std      8.003096    3.319195    3.761505    4.581443  \n",
       "min      0.000000    3.000000    0.000000    0.000000  \n",
       "25%      0.000000    8.000000    9.000000    8.000000  \n",
       "50%      4.000000   11.000000   11.000000   11.000000  \n",
       "75%      8.000000   13.000000   13.000000   14.000000  \n",
       "max     75.000000   19.000000   19.000000   20.000000  "
      ]
     },
     "execution_count": 7,
     "metadata": {},
     "output_type": "execute_result"
    }
   ],
   "source": [
    "df.describe()"
   ]
  },
  {
   "cell_type": "markdown",
   "metadata": {
    "tags": []
   },
   "source": [
    "# Attributes for student-mat.csv\n",
    "1 school - student's school (binary: \"GP\" - Gabriel Pereira or \"MS\" - Mousinho da Silveira)  \n",
    "2 sex - student's sex (binary: \"F\" - female or \"M\" - male)  \n",
    "3 age - student's age (numeric: from 15 to 22)  \n",
    "4 address - student's home address type (binary: \"U\" - urban or \"R\" - rural)  \n",
    "5 famsize - family size (binary: \"LE3\" - less or equal to 3 or \"GT3\" - greater than 3)  \n",
    "6 Pstatus - parent's cohabitation status (binary: \"T\" - living together or \"A\" - apart)  \n",
    "7 Medu - mother's education (numeric: 0 - none,  1 - primary education (4th grade), 2 – 5th to 9th grade, 3 – secondary education or 4 – higher education)  \n",
    "8 Fedu - father's education (numeric: 0 - none,  1 - primary education (4th grade), 2 – 5th to 9th grade, 3 – secondary education or 4 – higher education)  \n",
    "9 Mjob - mother's job (nominal: \"teacher\", \"health\" care related, civil \"services\" (e.g. administrative or police), \"at_home\" or \"other\")  \n",
    "10 Fjob - father's job (nominal: \"teacher\", \"health\" care related, civil \"services\" (e.g. administrative or police), \"at_home\" or \"other\")  \n",
    "11 reason - reason to choose this school (nominal: close to \"home\", school \"reputation\", \"course\" preference or \"other\")  \n",
    "12 guardian - student's guardian (nominal: \"mother\", \"father\" or \"other\")  \n",
    "13 traveltime - home to school travel time (numeric: 1 - <15 min., 2 - 15 to 30 min., 3 - 30 min. to 1 hour, or 4 - >1 hour)  \n",
    "14 studytime - weekly study time (numeric: 1 - <2 hours, 2 - 2 to 5 hours, 3 - 5 to 10 hours, or 4 - >10 hours)  \n",
    "15 failures - number of past class failures (numeric: n if 1<=n<3, else 4)  \n",
    "16 schoolsup - extra educational support (binary: yes or no)  \n",
    "17 famsup - family educational support (binary: yes or no)  \n",
    "18 paid - extra paid classes within the course subject (binary: yes or no)  \n",
    "19 activities - extra-curricular activities (binary: yes or no)  \n",
    "20 nursery - attended nursery school (binary: yes or no)  \n",
    "21 higher - wants to take higher education (binary: yes or no)  \n",
    "22 internet - Internet access at home (binary: yes or no)  \n",
    "23 romantic - with a romantic relationship (binary: yes or no)  \n",
    "24 famrel - quality of family relationships (numeric: from 1 - very bad to 5 - excellent)  \n",
    "25 freetime - free time after school (numeric: from 1 - very low to 5 - very high)  \n",
    "26 goout - going out with friends (numeric: from 1 - very low to 5 - very high)  \n",
    "27 Dalc - workday alcohol consumption (numeric: from 1 - very low to 5 - very high)  \n",
    "28 Walc - weekend alcohol consumption (numeric: from 1 - very low to 5 - very high)  \n",
    "29 health - current health status (numeric: from 1 - very bad to 5 - very good)  \n",
    "30 absences - number of school absences (numeric: from 0 to 93)  \n",
    "  \n",
    "# Grades \n",
    "31 G1 - first period grade (numeric: from 0 to 20)  \n",
    "31 G2 - second period grade (numeric: from 0 to 20)  \n",
    "32 G3 - final grade (numeric: from 0 to 20, output target)  "
   ]
  },
  {
   "cell_type": "code",
   "execution_count": 8,
   "metadata": {},
   "outputs": [
    {
     "data": {
      "text/plain": [
       "15"
      ]
     },
     "execution_count": 8,
     "metadata": {},
     "output_type": "execute_result"
    }
   ],
   "source": [
    "len(['sex', 'address', 'Pstatus', 'Medu', 'Fedu', 'Mjob', 'Fjob', 'nursery', 'internet', 'romantic', 'famrel', 'guardian', 'goout', 'Dalc', 'health'])"
   ]
  },
  {
   "cell_type": "markdown",
   "metadata": {},
   "source": [
    "# Create Label"
   ]
  },
  {
   "cell_type": "code",
   "execution_count": 9,
   "metadata": {},
   "outputs": [],
   "source": [
    "# set label based on spec\n",
    "df['qual_student'] = np.where(df['G3']>=15, 1, 0)"
   ]
  },
  {
   "cell_type": "code",
   "execution_count": 10,
   "metadata": {},
   "outputs": [
    {
     "data": {
      "text/plain": [
       "count    395.000000\n",
       "mean       0.184810\n",
       "std        0.388636\n",
       "min        0.000000\n",
       "25%        0.000000\n",
       "50%        0.000000\n",
       "75%        0.000000\n",
       "max        1.000000\n",
       "Name: qual_student, dtype: float64"
      ]
     },
     "execution_count": 10,
     "metadata": {},
     "output_type": "execute_result"
    }
   ],
   "source": [
    "df['qual_student'].describe()"
   ]
  },
  {
   "cell_type": "code",
   "execution_count": 11,
   "metadata": {},
   "outputs": [
    {
     "data": {
      "text/plain": [
       "<AxesSubplot:xlabel='qual_student', ylabel='Density'>"
      ]
     },
     "execution_count": 11,
     "metadata": {},
     "output_type": "execute_result"
    },
    {
     "data": {
      "image/png": "[encoded data removed]",
      "text/plain": [
       "<Figure size 432x288 with 1 Axes>"
      ]
     },
     "metadata": {
      "needs_background": "light"
     },
     "output_type": "display_data"
    }
   ],
   "source": [
    "# histogram\n",
    "sns.distplot(df['qual_student'])"
   ]
  },
  {
   "cell_type": "markdown",
   "metadata": {},
   "source": [
    "- we note that the qual_student takes on values in the set {0, 1} --> binary classification problem"
   ]
  },
  {
   "cell_type": "markdown",
   "metadata": {},
   "source": [
    "# Label - EDA"
   ]
  },
  {
   "cell_type": "code",
   "execution_count": 12,
   "metadata": {},
   "outputs": [
    {
     "name": "stdout",
     "output_type": "stream",
     "text": [
      "Target Variable\n",
      "qual_student\n",
      "0    322\n",
      "1     73\n",
      "Name: qual_student, dtype: int64\n"
     ]
    },
    {
     "data": {
      "image/png": "[encoded data removed]",
      "text/plain": [
       "<Figure size 720x360 with 1 Axes>"
      ]
     },
     "metadata": {},
     "output_type": "display_data"
    }
   ],
   "source": [
    "# Survival Count\n",
    "print('Target Variable')\n",
    "print(df.groupby(['qual_student']).qual_student.count())\n",
    "\n",
    "# Target Variable Countplot\n",
    "sns.set_style('darkgrid')\n",
    "plt.figure(figsize = (10,5))\n",
    "sns.countplot(df['qual_student'], alpha =.80, palette= ['grey','lightgreen'])\n",
    "plt.title('Qualified vs Non-Qualified')\n",
    "plt.ylabel('# Students')\n",
    "plt.show()"
   ]
  },
  {
   "cell_type": "markdown",
   "metadata": {},
   "source": [
    "The majority of students are unqualified as per our definition here. \n",
    "\n",
    "aha! we can see we have quite a class imbalance here:  \n",
    "~81.5% unqualified students  \n",
    "~18.5% qualified students"
   ]
  },
  {
   "cell_type": "code",
   "execution_count": 13,
   "metadata": {},
   "outputs": [
    {
     "data": {
      "text/plain": [
       "<AxesSubplot:ylabel='qual_student'>"
      ]
     },
     "execution_count": 13,
     "metadata": {},
     "output_type": "execute_result"
    },
    {
     "data": {
      "image/png": "[encoded data removed]",
      "text/plain": [
       "<Figure size 432x288 with 1 Axes>"
      ]
     },
     "metadata": {},
     "output_type": "display_data"
    }
   ],
   "source": [
    "df['qual_student'].value_counts().plot.pie(autopct='%1.2f%%')"
   ]
  },
  {
   "cell_type": "code",
   "execution_count": null,
   "metadata": {},
   "outputs": [],
   "source": []
  },
  {
   "cell_type": "markdown",
   "metadata": {},
   "source": [
    "# Numeric Variables"
   ]
  },
  {
   "cell_type": "code",
   "execution_count": 14,
   "metadata": {},
   "outputs": [
    {
     "data": {
      "text/plain": [
       "age\n",
       "15     82\n",
       "16    104\n",
       "17     98\n",
       "18     82\n",
       "19     24\n",
       "20      3\n",
       "21      1\n",
       "22      1\n",
       "Name: age, dtype: int64"
      ]
     },
     "execution_count": 14,
     "metadata": {},
     "output_type": "execute_result"
    }
   ],
   "source": [
    "df.groupby('age')['age'].count()"
   ]
  },
  {
   "cell_type": "code",
   "execution_count": 15,
   "metadata": {},
   "outputs": [
    {
     "name": "stdout",
     "output_type": "stream",
     "text": [
      "Discrete Variables\n",
      "age\n",
      "15     82\n",
      "16    104\n",
      "17     98\n",
      "18     82\n",
      "19     24\n",
      "20      3\n",
      "21      1\n",
      "22      1\n",
      "Name: age, dtype: int64\n",
      "\n",
      "Medu\n",
      "0      3\n",
      "1     59\n",
      "2    103\n",
      "3     99\n",
      "4    131\n",
      "Name: Medu, dtype: int64\n",
      "\n",
      "Fedu\n",
      "0      2\n",
      "1     82\n",
      "2    115\n",
      "3    100\n",
      "4     96\n",
      "Name: Fedu, dtype: int64\n",
      "\n",
      "traveltime\n",
      "1    257\n",
      "2    107\n",
      "3     23\n",
      "4      8\n",
      "Name: traveltime, dtype: int64\n",
      "\n",
      "failures\n",
      "0    312\n",
      "1     50\n",
      "2     17\n",
      "3     16\n",
      "Name: failures, dtype: int64\n",
      "\n",
      "famrel\n",
      "1      8\n",
      "2     18\n",
      "3     68\n",
      "4    195\n",
      "5    106\n",
      "Name: famrel, dtype: int64\n",
      "\n",
      "freetime\n",
      "1     19\n",
      "2     64\n",
      "3    157\n",
      "4    115\n",
      "5     40\n",
      "Name: freetime, dtype: int64\n",
      "\n",
      "goout\n",
      "1     23\n",
      "2    103\n",
      "3    130\n",
      "4     86\n",
      "5     53\n",
      "Name: goout, dtype: int64\n",
      "\n",
      "Dalc\n",
      "1    276\n",
      "2     75\n",
      "3     26\n",
      "4      9\n",
      "5      9\n",
      "Name: Dalc, dtype: int64\n",
      "\n",
      "Walc\n",
      "1    151\n",
      "2     85\n",
      "3     80\n",
      "4     51\n",
      "5     28\n",
      "Name: Walc, dtype: int64\n",
      "\n",
      "health\n",
      "1     47\n",
      "2     45\n",
      "3     91\n",
      "4     66\n",
      "5    146\n",
      "Name: health, dtype: int64\n",
      "\n",
      "absences\n",
      "0     115\n",
      "1       3\n",
      "2      65\n",
      "3       8\n",
      "4      53\n",
      "5       5\n",
      "6      31\n",
      "7       7\n",
      "8      22\n",
      "9       3\n",
      "10     17\n",
      "11      3\n",
      "12     12\n",
      "13      3\n",
      "14     12\n",
      "15      3\n",
      "16      7\n",
      "17      1\n",
      "18      5\n",
      "19      1\n",
      "20      4\n",
      "21      1\n",
      "22      3\n",
      "23      1\n",
      "24      1\n",
      "25      1\n",
      "26      1\n",
      "28      1\n",
      "30      1\n",
      "38      1\n",
      "40      1\n",
      "54      1\n",
      "56      1\n",
      "75      1\n",
      "Name: absences, dtype: int64\n",
      "\n"
     ]
    }
   ],
   "source": [
    "# Identify numeric features\n",
    "# print('Continuous Variables')\n",
    "# print(train_data[['Age','Fare']].describe().transpose())\n",
    "# print('--'*40)\n",
    "print('Discrete Variables')\n",
    "\n",
    "\n",
    "discrete_vars = [['age', 'Medu', 'Fedu', \n",
    "              'traveltime', 'failures', 'famrel', \n",
    "              'freetime', 'goout', 'Dalc', 'Walc', \n",
    "              'health', 'absences']]\n",
    "\n",
    "for var in discrete_vars[0]:\n",
    "    print(df.groupby(var)[var].count())\n",
    "    print()\n",
    "# print(train_data.groupby('Pclass').Pclass.count())\n",
    "# print(train_data.groupby('SibSp').SibSp.count())\n",
    "# print(train_data.groupby('Parch').Parch.count())\n",
    "\n",
    "# Subplots of Numeric Features\n",
    "# sns.set_style('darkgrid')\n",
    "# fig = plt.figure(figsize = (20,16))\n",
    "# fig.subplots_adjust(hspace = .30)\n",
    "\n",
    "# ax1 = fig.add_subplot(321)\n",
    "# ax1.hist(train_data['Pclass'], bins = 20, alpha = .50,edgecolor= 'black',color ='teal')\n",
    "# ax1.set_xlabel('Pclass', fontsize = 15)\n",
    "# ax1.set_ylabel('# Passengers',fontsize = 15)\n",
    "# ax1.set_title('Passenger Class',fontsize = 15)\n",
    "\n",
    "# ax2 = fig.add_subplot(323)\n",
    "# ax2.hist(train_data['Age'], bins = 20, alpha = .50,edgecolor= 'black',color ='teal')\n",
    "# ax2.set_xlabel('Age',fontsize = 15)\n",
    "# ax2.set_ylabel('# Passengers',fontsize = 15)\n",
    "# ax2.set_title('Age of Passengers',fontsize = 15)\n",
    "\n",
    "# ax3 = fig.add_subplot(325)\n",
    "# ax3.hist(train_data['SibSp'], bins = 20, alpha = .50,edgecolor= 'black',color ='teal')\n",
    "# ax3.set_xlabel('SibSp',fontsize = 15)\n",
    "# ax3.set_ylabel('# Passengers',fontsize = 15)\n",
    "# ax3.set_title('Passengers with Spouses or Siblings',fontsize = 15)\n",
    "\n",
    "# ax4 = fig.add_subplot(222)\n",
    "# ax4.hist(train_data['Parch'], bins = 20, alpha = .50,edgecolor= 'black',color ='teal')\n",
    "# ax4.set_xlabel('Parch',fontsize = 15)\n",
    "# ax4.set_ylabel('# Passengers',fontsize = 15)\n",
    "# ax4.set_title('Passengers with Children',fontsize = 15)\n",
    "\n",
    "# ax5 = fig.add_subplot(224)\n",
    "# ax5.hist(train_data['Fare'], bins = 20, alpha = .50,edgecolor= 'black',color ='teal')\n",
    "# ax5.set_xlabel('Fare',fontsize = 15)\n",
    "# ax5.set_ylabel('# Passengers',fontsize = 15)\n",
    "# ax5.set_title('Ticket Fare',fontsize = 15)\n",
    "\n",
    "# plt.show()"
   ]
  },
  {
   "cell_type": "markdown",
   "metadata": {},
   "source": [
    "# Previous Model"
   ]
  },
  {
   "cell_type": "code",
   "execution_count": 16,
   "metadata": {},
   "outputs": [],
   "source": [
    "df2 = df.copy()"
   ]
  },
  {
   "cell_type": "code",
   "execution_count": 17,
   "metadata": {},
   "outputs": [],
   "source": [
    "include = ['health', 'absences','age','G3']\n",
    "df2.drop(columns=df2.columns.difference(include), inplace=True)  # only using 3 features"
   ]
  },
  {
   "cell_type": "code",
   "execution_count": 18,
   "metadata": {},
   "outputs": [],
   "source": [
    "df2['qual_student'] = np.where(df2['G3']>=15, 1, 0)"
   ]
  },
  {
   "cell_type": "code",
   "execution_count": 19,
   "metadata": {},
   "outputs": [
    {
     "data": {
      "text/html": [
       "<div>\n",
       "<style scoped>\n",
       "    .dataframe tbody tr th:only-of-type {\n",
       "        vertical-align: middle;\n",
       "    }\n",
       "\n",
       "    .dataframe tbody tr th {\n",
       "        vertical-align: top;\n",
       "    }\n",
       "\n",
       "    .dataframe thead th {\n",
       "        text-align: right;\n",
       "    }\n",
       "</style>\n",
       "<table border=\"1\" class=\"dataframe\">\n",
       "  <thead>\n",
       "    <tr style=\"text-align: right;\">\n",
       "      <th></th>\n",
       "      <th>age</th>\n",
       "      <th>health</th>\n",
       "      <th>absences</th>\n",
       "      <th>G3</th>\n",
       "      <th>qual_student</th>\n",
       "    </tr>\n",
       "  </thead>\n",
       "  <tbody>\n",
       "    <tr>\n",
       "      <th>0</th>\n",
       "      <td>18</td>\n",
       "      <td>3</td>\n",
       "      <td>6</td>\n",
       "      <td>6</td>\n",
       "      <td>0</td>\n",
       "    </tr>\n",
       "    <tr>\n",
       "      <th>1</th>\n",
       "      <td>17</td>\n",
       "      <td>3</td>\n",
       "      <td>4</td>\n",
       "      <td>6</td>\n",
       "      <td>0</td>\n",
       "    </tr>\n",
       "    <tr>\n",
       "      <th>2</th>\n",
       "      <td>15</td>\n",
       "      <td>3</td>\n",
       "      <td>10</td>\n",
       "      <td>10</td>\n",
       "      <td>0</td>\n",
       "    </tr>\n",
       "    <tr>\n",
       "      <th>3</th>\n",
       "      <td>15</td>\n",
       "      <td>5</td>\n",
       "      <td>2</td>\n",
       "      <td>15</td>\n",
       "      <td>1</td>\n",
       "    </tr>\n",
       "    <tr>\n",
       "      <th>4</th>\n",
       "      <td>16</td>\n",
       "      <td>5</td>\n",
       "      <td>4</td>\n",
       "      <td>10</td>\n",
       "      <td>0</td>\n",
       "    </tr>\n",
       "    <tr>\n",
       "      <th>...</th>\n",
       "      <td>...</td>\n",
       "      <td>...</td>\n",
       "      <td>...</td>\n",
       "      <td>...</td>\n",
       "      <td>...</td>\n",
       "    </tr>\n",
       "    <tr>\n",
       "      <th>390</th>\n",
       "      <td>20</td>\n",
       "      <td>4</td>\n",
       "      <td>11</td>\n",
       "      <td>9</td>\n",
       "      <td>0</td>\n",
       "    </tr>\n",
       "    <tr>\n",
       "      <th>391</th>\n",
       "      <td>17</td>\n",
       "      <td>2</td>\n",
       "      <td>3</td>\n",
       "      <td>16</td>\n",
       "      <td>1</td>\n",
       "    </tr>\n",
       "    <tr>\n",
       "      <th>392</th>\n",
       "      <td>21</td>\n",
       "      <td>3</td>\n",
       "      <td>3</td>\n",
       "      <td>7</td>\n",
       "      <td>0</td>\n",
       "    </tr>\n",
       "    <tr>\n",
       "      <th>393</th>\n",
       "      <td>18</td>\n",
       "      <td>5</td>\n",
       "      <td>0</td>\n",
       "      <td>10</td>\n",
       "      <td>0</td>\n",
       "    </tr>\n",
       "    <tr>\n",
       "      <th>394</th>\n",
       "      <td>19</td>\n",
       "      <td>5</td>\n",
       "      <td>5</td>\n",
       "      <td>9</td>\n",
       "      <td>0</td>\n",
       "    </tr>\n",
       "  </tbody>\n",
       "</table>\n",
       "<p>395 rows × 5 columns</p>\n",
       "</div>"
      ],
      "text/plain": [
       "     age  health  absences  G3  qual_student\n",
       "0     18       3         6   6             0\n",
       "1     17       3         4   6             0\n",
       "2     15       3        10  10             0\n",
       "3     15       5         2  15             1\n",
       "4     16       5         4  10             0\n",
       "..   ...     ...       ...  ..           ...\n",
       "390   20       4        11   9             0\n",
       "391   17       2         3  16             1\n",
       "392   21       3         3   7             0\n",
       "393   18       5         0  10             0\n",
       "394   19       5         5   9             0\n",
       "\n",
       "[395 rows x 5 columns]"
      ]
     },
     "execution_count": 19,
     "metadata": {},
     "output_type": "execute_result"
    }
   ],
   "source": [
    "df2"
   ]
  },
  {
   "cell_type": "code",
   "execution_count": 20,
   "metadata": {},
   "outputs": [],
   "source": [
    "include = ['G3']\n",
    "df2.drop(columns=include, inplace=True)"
   ]
  },
  {
   "cell_type": "code",
   "execution_count": 21,
   "metadata": {},
   "outputs": [
    {
     "data": {
      "text/html": [
       "<div>\n",
       "<style scoped>\n",
       "    .dataframe tbody tr th:only-of-type {\n",
       "        vertical-align: middle;\n",
       "    }\n",
       "\n",
       "    .dataframe tbody tr th {\n",
       "        vertical-align: top;\n",
       "    }\n",
       "\n",
       "    .dataframe thead th {\n",
       "        text-align: right;\n",
       "    }\n",
       "</style>\n",
       "<table border=\"1\" class=\"dataframe\">\n",
       "  <thead>\n",
       "    <tr style=\"text-align: right;\">\n",
       "      <th></th>\n",
       "      <th>age</th>\n",
       "      <th>health</th>\n",
       "      <th>absences</th>\n",
       "      <th>qual_student</th>\n",
       "    </tr>\n",
       "  </thead>\n",
       "  <tbody>\n",
       "    <tr>\n",
       "      <th>0</th>\n",
       "      <td>18</td>\n",
       "      <td>3</td>\n",
       "      <td>6</td>\n",
       "      <td>0</td>\n",
       "    </tr>\n",
       "    <tr>\n",
       "      <th>1</th>\n",
       "      <td>17</td>\n",
       "      <td>3</td>\n",
       "      <td>4</td>\n",
       "      <td>0</td>\n",
       "    </tr>\n",
       "    <tr>\n",
       "      <th>2</th>\n",
       "      <td>15</td>\n",
       "      <td>3</td>\n",
       "      <td>10</td>\n",
       "      <td>0</td>\n",
       "    </tr>\n",
       "    <tr>\n",
       "      <th>3</th>\n",
       "      <td>15</td>\n",
       "      <td>5</td>\n",
       "      <td>2</td>\n",
       "      <td>1</td>\n",
       "    </tr>\n",
       "    <tr>\n",
       "      <th>4</th>\n",
       "      <td>16</td>\n",
       "      <td>5</td>\n",
       "      <td>4</td>\n",
       "      <td>0</td>\n",
       "    </tr>\n",
       "    <tr>\n",
       "      <th>...</th>\n",
       "      <td>...</td>\n",
       "      <td>...</td>\n",
       "      <td>...</td>\n",
       "      <td>...</td>\n",
       "    </tr>\n",
       "    <tr>\n",
       "      <th>390</th>\n",
       "      <td>20</td>\n",
       "      <td>4</td>\n",
       "      <td>11</td>\n",
       "      <td>0</td>\n",
       "    </tr>\n",
       "    <tr>\n",
       "      <th>391</th>\n",
       "      <td>17</td>\n",
       "      <td>2</td>\n",
       "      <td>3</td>\n",
       "      <td>1</td>\n",
       "    </tr>\n",
       "    <tr>\n",
       "      <th>392</th>\n",
       "      <td>21</td>\n",
       "      <td>3</td>\n",
       "      <td>3</td>\n",
       "      <td>0</td>\n",
       "    </tr>\n",
       "    <tr>\n",
       "      <th>393</th>\n",
       "      <td>18</td>\n",
       "      <td>5</td>\n",
       "      <td>0</td>\n",
       "      <td>0</td>\n",
       "    </tr>\n",
       "    <tr>\n",
       "      <th>394</th>\n",
       "      <td>19</td>\n",
       "      <td>5</td>\n",
       "      <td>5</td>\n",
       "      <td>0</td>\n",
       "    </tr>\n",
       "  </tbody>\n",
       "</table>\n",
       "<p>395 rows × 4 columns</p>\n",
       "</div>"
      ],
      "text/plain": [
       "     age  health  absences  qual_student\n",
       "0     18       3         6             0\n",
       "1     17       3         4             0\n",
       "2     15       3        10             0\n",
       "3     15       5         2             1\n",
       "4     16       5         4             0\n",
       "..   ...     ...       ...           ...\n",
       "390   20       4        11             0\n",
       "391   17       2         3             1\n",
       "392   21       3         3             0\n",
       "393   18       5         0             0\n",
       "394   19       5         5             0\n",
       "\n",
       "[395 rows x 4 columns]"
      ]
     },
     "execution_count": 21,
     "metadata": {},
     "output_type": "execute_result"
    }
   ],
   "source": [
    "df2"
   ]
  },
  {
   "cell_type": "code",
   "execution_count": 22,
   "metadata": {},
   "outputs": [
    {
     "data": {
      "text/plain": [
       "Index(['age', 'health', 'absences', 'qual_student'], dtype='object')"
      ]
     },
     "execution_count": 22,
     "metadata": {},
     "output_type": "execute_result"
    }
   ],
   "source": [
    "df2.columns"
   ]
  },
  {
   "cell_type": "code",
   "execution_count": 23,
   "metadata": {},
   "outputs": [
    {
     "data": {
      "text/plain": [
       "RandomForestClassifier(n_estimators=1000)"
      ]
     },
     "execution_count": 23,
     "metadata": {},
     "output_type": "execute_result"
    }
   ],
   "source": [
    "from sklearn.ensemble import RandomForestClassifier as rf\n",
    "import sklearn\n",
    "dependent_variable = 'qual_student'\n",
    "x = df2[df2.columns.difference([dependent_variable])]\n",
    "y = df2[dependent_variable]\n",
    "clf = rf(n_estimators = 1000)\n",
    "clf.fit(x, y)"
   ]
  },
  {
   "cell_type": "code",
   "execution_count": 24,
   "metadata": {},
   "outputs": [
    {
     "data": {
      "text/plain": [
       "0.5357142857142857"
      ]
     },
     "execution_count": 24,
     "metadata": {},
     "output_type": "execute_result"
    }
   ],
   "source": [
    "pred = clf.predict(x)\n",
    "sklearn.metrics.f1_score(y, pred, average='binary')"
   ]
  },
  {
   "cell_type": "markdown",
   "metadata": {},
   "source": [
    "Hmm, this seems like it sucks. Let's evaluate this model a bit more."
   ]
  },
  {
   "cell_type": "code",
   "execution_count": 25,
   "metadata": {},
   "outputs": [
    {
     "name": "stdout",
     "output_type": "stream",
     "text": [
      "Random Forest\n",
      "\n",
      "\n",
      "Confusion Matrix\n",
      "[[313   9]\n",
      " [ 43  30]]\n",
      "--------------------------------------------------------------------------------\n",
      "Classification Report\n",
      "              precision    recall  f1-score   support\n",
      "\n",
      "           0       0.88      0.97      0.92       322\n",
      "           1       0.77      0.41      0.54        73\n",
      "\n",
      "    accuracy                           0.87       395\n",
      "   macro avg       0.82      0.69      0.73       395\n",
      "weighted avg       0.86      0.87      0.85       395\n",
      "\n",
      "--------------------------------------------------------------------------------\n",
      "Accuracy 86.84 %\n"
     ]
    }
   ],
   "source": [
    "# Additional Scoring\n",
    "\n",
    "# Score It\n",
    "from sklearn.metrics import classification_report, confusion_matrix, accuracy_score,f1_score, precision_score, recall_score\n",
    "\n",
    "# Confusion Matrix\n",
    "print('Random Forest')\n",
    "print('\\n')\n",
    "print('Confusion Matrix')\n",
    "print(confusion_matrix(y, pred))\n",
    "print('--'*40)\n",
    "\n",
    "# Classification Report\n",
    "print('Classification Report')\n",
    "print(classification_report(y, pred))\n",
    "\n",
    "# Accuracy\n",
    "print('--'*40)\n",
    "model_accuracy = round(accuracy_score(y, pred) * 100,2)\n",
    "print('Accuracy', model_accuracy,'%')"
   ]
  },
  {
   "cell_type": "code",
   "execution_count": 26,
   "metadata": {},
   "outputs": [],
   "source": [
    "random_state = 42\n",
    "# Cross validate model with Kfold stratified cross val\n",
    "kfold = StratifiedKFold(n_splits=5)\n",
    "\n",
    "#separate dataset into X_train and Y_train:\n",
    "def separate(X_train):\n",
    "    X = X_train.drop(columns= ['qual_student'])\n",
    "    Y = X_train['qual_student']\n",
    "    return X, Y\n",
    "\n",
    "X_encoded, Y_encoded = separate(df2)"
   ]
  },
  {
   "cell_type": "code",
   "execution_count": 27,
   "metadata": {},
   "outputs": [],
   "source": [
    "classifiers = [ ]\n",
    "classifiers.append(('RandomForest', RandomForestClassifier(random_state=random_state)))"
   ]
  },
  {
   "cell_type": "code",
   "execution_count": 28,
   "metadata": {},
   "outputs": [],
   "source": [
    "def getScores(estimator, x, y):\n",
    "    yPred = estimator.predict(x)\n",
    "    return (accuracy_score(y, yPred), \n",
    "            precision_score(y, yPred, pos_label=3, average='macro'), \n",
    "            recall_score(y, yPred, pos_label=3, average='macro'),\n",
    "            f1_score(y, yPred, pos_label=3, average='macro'))\n",
    "\n",
    "def my_scorer(estimator, x, y):\n",
    "    a, p, r, f = getScores(estimator, x, y)\n",
    "    print('accuracy:', a)\n",
    "    print('precision:', p)\n",
    "    print('recall:', r)\n",
    "    \n",
    "    print('f1 score:', f)\n",
    "    print()\n",
    "#     return (a, p, r)\n",
    "    return a+p+r"
   ]
  },
  {
   "cell_type": "code",
   "execution_count": 29,
   "metadata": {},
   "outputs": [
    {
     "name": "stdout",
     "output_type": "stream",
     "text": [
      "accuracy: 0.7803030303030303\n",
      "precision: 0.6040723981900452\n",
      "recall: 0.5584179970972424\n",
      "f1 score: 0.5637606837606838\n",
      "\n",
      "accuracy: 0.7878787878787878\n",
      "precision: 0.48342857142857143\n",
      "recall: 0.4942161946549661\n",
      "f1 score: 0.4735042735042735\n",
      "\n",
      "accuracy: 0.8015267175572519\n",
      "precision: 0.5786666666666667\n",
      "recall: 0.5229750778816199\n",
      "f1 score: 0.510632183908046\n",
      "\n",
      "RandomForest: 1.870495 (0.075968)\n"
     ]
    }
   ],
   "source": [
    "# evaluate each model \n",
    "results = []\n",
    "names = []\n",
    "\n",
    "for name, classifier in classifiers:\n",
    "    kfold = model_selection.KFold(n_splits= 3, random_state=random_state, shuffle = True)\n",
    "#     cv_results = model_selection.cross_val_score(clf, X_encoded, y = Y_encoded, cv=kfold, scoring='accuracy')\n",
    "    cv_results = model_selection.cross_val_score(clf, X_encoded, y = Y_encoded, cv=kfold, scoring=my_scorer)\n",
    "#     print(cv_results)\n",
    "    results.append(cv_results)\n",
    "    names.append(name)\n",
    "    msg = \"%s: %f (%f)\" % (name, cv_results.mean(), cv_results.std())\n",
    "    print(msg)"
   ]
  },
  {
   "cell_type": "markdown",
   "metadata": {},
   "source": [
    "Using the same dataset, "
   ]
  },
  {
   "cell_type": "markdown",
   "metadata": {},
   "source": [
    "# Categorical Feature Encoding \n",
    "\n",
    "# Random Forest with New Feature Set (encoded)"
   ]
  },
  {
   "cell_type": "markdown",
   "metadata": {},
   "source": [
    "## Let's drop features that might be unethical or unnecessary to include. "
   ]
  },
  {
   "cell_type": "code",
   "execution_count": 30,
   "metadata": {},
   "outputs": [],
   "source": [
    "unethical_features = ['sex', 'address', 'Pstatus', 'Medu', 'Fedu', 'Mjob', 'Fjob', 'nursery', 'internet', 'romantic', 'famrel', 'guardian', 'goout', 'Dalc', 'health']\n",
    "df.drop(columns=unethical_features, inplace=True)"
   ]
  },
  {
   "cell_type": "code",
   "execution_count": 31,
   "metadata": {},
   "outputs": [],
   "source": [
    "# Identify categorical variables\n",
    "cat_cols = df.select_dtypes(['object']).columns"
   ]
  },
  {
   "cell_type": "code",
   "execution_count": 32,
   "metadata": {},
   "outputs": [
    {
     "data": {
      "text/html": [
       "<div>\n",
       "<style scoped>\n",
       "    .dataframe tbody tr th:only-of-type {\n",
       "        vertical-align: middle;\n",
       "    }\n",
       "\n",
       "    .dataframe tbody tr th {\n",
       "        vertical-align: top;\n",
       "    }\n",
       "\n",
       "    .dataframe thead th {\n",
       "        text-align: right;\n",
       "    }\n",
       "</style>\n",
       "<table border=\"1\" class=\"dataframe\">\n",
       "  <thead>\n",
       "    <tr style=\"text-align: right;\">\n",
       "      <th></th>\n",
       "      <th>school</th>\n",
       "      <th>age</th>\n",
       "      <th>famsize</th>\n",
       "      <th>reason</th>\n",
       "      <th>traveltime</th>\n",
       "      <th>studytime</th>\n",
       "      <th>failures</th>\n",
       "      <th>schoolsup</th>\n",
       "      <th>famsup</th>\n",
       "      <th>paid</th>\n",
       "      <th>activities</th>\n",
       "      <th>higher</th>\n",
       "      <th>freetime</th>\n",
       "      <th>Walc</th>\n",
       "      <th>absences</th>\n",
       "      <th>G1</th>\n",
       "      <th>G2</th>\n",
       "      <th>G3</th>\n",
       "      <th>qual_student</th>\n",
       "    </tr>\n",
       "  </thead>\n",
       "  <tbody>\n",
       "    <tr>\n",
       "      <th>0</th>\n",
       "      <td>0</td>\n",
       "      <td>18</td>\n",
       "      <td>0</td>\n",
       "      <td>0</td>\n",
       "      <td>2</td>\n",
       "      <td>2</td>\n",
       "      <td>0</td>\n",
       "      <td>1</td>\n",
       "      <td>0</td>\n",
       "      <td>0</td>\n",
       "      <td>0</td>\n",
       "      <td>1</td>\n",
       "      <td>3</td>\n",
       "      <td>1</td>\n",
       "      <td>6</td>\n",
       "      <td>5</td>\n",
       "      <td>6</td>\n",
       "      <td>6</td>\n",
       "      <td>0</td>\n",
       "    </tr>\n",
       "    <tr>\n",
       "      <th>1</th>\n",
       "      <td>0</td>\n",
       "      <td>17</td>\n",
       "      <td>0</td>\n",
       "      <td>0</td>\n",
       "      <td>1</td>\n",
       "      <td>2</td>\n",
       "      <td>0</td>\n",
       "      <td>0</td>\n",
       "      <td>1</td>\n",
       "      <td>0</td>\n",
       "      <td>0</td>\n",
       "      <td>1</td>\n",
       "      <td>3</td>\n",
       "      <td>1</td>\n",
       "      <td>4</td>\n",
       "      <td>5</td>\n",
       "      <td>5</td>\n",
       "      <td>6</td>\n",
       "      <td>0</td>\n",
       "    </tr>\n",
       "    <tr>\n",
       "      <th>2</th>\n",
       "      <td>0</td>\n",
       "      <td>15</td>\n",
       "      <td>1</td>\n",
       "      <td>2</td>\n",
       "      <td>1</td>\n",
       "      <td>2</td>\n",
       "      <td>3</td>\n",
       "      <td>1</td>\n",
       "      <td>0</td>\n",
       "      <td>1</td>\n",
       "      <td>0</td>\n",
       "      <td>1</td>\n",
       "      <td>3</td>\n",
       "      <td>3</td>\n",
       "      <td>10</td>\n",
       "      <td>7</td>\n",
       "      <td>8</td>\n",
       "      <td>10</td>\n",
       "      <td>0</td>\n",
       "    </tr>\n",
       "    <tr>\n",
       "      <th>3</th>\n",
       "      <td>0</td>\n",
       "      <td>15</td>\n",
       "      <td>0</td>\n",
       "      <td>1</td>\n",
       "      <td>1</td>\n",
       "      <td>3</td>\n",
       "      <td>0</td>\n",
       "      <td>0</td>\n",
       "      <td>1</td>\n",
       "      <td>1</td>\n",
       "      <td>1</td>\n",
       "      <td>1</td>\n",
       "      <td>2</td>\n",
       "      <td>1</td>\n",
       "      <td>2</td>\n",
       "      <td>15</td>\n",
       "      <td>14</td>\n",
       "      <td>15</td>\n",
       "      <td>1</td>\n",
       "    </tr>\n",
       "    <tr>\n",
       "      <th>4</th>\n",
       "      <td>0</td>\n",
       "      <td>16</td>\n",
       "      <td>0</td>\n",
       "      <td>1</td>\n",
       "      <td>1</td>\n",
       "      <td>2</td>\n",
       "      <td>0</td>\n",
       "      <td>0</td>\n",
       "      <td>1</td>\n",
       "      <td>1</td>\n",
       "      <td>0</td>\n",
       "      <td>1</td>\n",
       "      <td>3</td>\n",
       "      <td>2</td>\n",
       "      <td>4</td>\n",
       "      <td>6</td>\n",
       "      <td>10</td>\n",
       "      <td>10</td>\n",
       "      <td>0</td>\n",
       "    </tr>\n",
       "  </tbody>\n",
       "</table>\n",
       "</div>"
      ],
      "text/plain": [
       "   school  age  famsize  reason  traveltime  studytime  failures  schoolsup  \\\n",
       "0       0   18        0       0           2          2         0          1   \n",
       "1       0   17        0       0           1          2         0          0   \n",
       "2       0   15        1       2           1          2         3          1   \n",
       "3       0   15        0       1           1          3         0          0   \n",
       "4       0   16        0       1           1          2         0          0   \n",
       "\n",
       "   famsup  paid  activities  higher  freetime  Walc  absences  G1  G2  G3  \\\n",
       "0       0     0           0       1         3     1         6   5   6   6   \n",
       "1       1     0           0       1         3     1         4   5   5   6   \n",
       "2       0     1           0       1         3     3        10   7   8  10   \n",
       "3       1     1           1       1         2     1         2  15  14  15   \n",
       "4       1     1           0       1         3     2         4   6  10  10   \n",
       "\n",
       "   qual_student  \n",
       "0             0  \n",
       "1             0  \n",
       "2             0  \n",
       "3             1  \n",
       "4             0  "
      ]
     },
     "execution_count": 32,
     "metadata": {},
     "output_type": "execute_result"
    }
   ],
   "source": [
    "# encode variables into numeric labels\n",
    "le = sklearn.preprocessing.LabelEncoder()\n",
    "\n",
    "# columns = ['Sex', 'Embarked', 'ticket_type', 'cabin_type', 'title']\n",
    "\n",
    "for col in cat_cols:\n",
    "    le.fit(df[col])\n",
    "    df[col] = le.transform(df[col])\n",
    "    \n",
    "df.head()"
   ]
  },
  {
   "cell_type": "code",
   "execution_count": 33,
   "metadata": {},
   "outputs": [],
   "source": [
    "c = df.corr().abs()\n",
    "\n",
    "s = c.unstack()\n",
    "so = s.sort_values(kind=\"quicksort\")"
   ]
  },
  {
   "cell_type": "code",
   "execution_count": 34,
   "metadata": {},
   "outputs": [],
   "source": [
    "so = so[::-1] # flip it so it's descending\n",
    "so = so[34:] # "
   ]
  },
  {
   "cell_type": "code",
   "execution_count": 35,
   "metadata": {},
   "outputs": [
    {
     "data": {
      "text/plain": [
       "failures   G3          0.360415\n",
       "           G2          0.355896\n",
       "G2         failures    0.355896\n",
       "G1         failures    0.354718\n",
       "failures   G1          0.354718\n",
       "           higher      0.300316\n",
       "higher     failures    0.300316\n",
       "famsup     paid        0.293184\n",
       "paid       famsup      0.293184\n",
       "studytime  Walc        0.253785\n",
       "dtype: float64"
      ]
     },
     "execution_count": 35,
     "metadata": {},
     "output_type": "execute_result"
    }
   ],
   "source": [
    "so.head(n = 10)"
   ]
  },
  {
   "cell_type": "markdown",
   "metadata": {},
   "source": [
    "We see that {G1, G2, G3} are all pretty great predictors of each other. They're all highly correlated. This isn't surprising, given that we might expect that students who perform well in the first quarter generally continue to perform well in the 2nd and 3rd quarters, and vice-versa for every combination thereof. \n",
    "\n",
    "Further, we see that {G1, G2, G3} are all pretty great predictors of qual_student. Again, not surprising since we defined `qual_student` as `G3 >= 15`.\n",
    "\n",
    "Crucially, we note the following:\n",
    "\n",
    "G1 and G2 seem to be features that are part of the dataset. But note the problem here: we’re trying to predict potential applicant success.  And applicant success is measured by grades: {G1, G2, G3} in our dataset. Further, our labels (ground truth) are calculated on the basis of one of these grades: G3.\n",
    "Putting this into context, I don’t think it would make sense at all in the real world to know any grades {G1, G2, G3} since we haven’t admitted the applicant yet.\n",
    "\n",
    "**In summary: I believe we should not use G1, G2, or G3 as predictors.**"
   ]
  },
  {
   "cell_type": "code",
   "execution_count": 36,
   "metadata": {},
   "outputs": [
    {
     "data": {
      "text/plain": [
       "<AxesSubplot:title={'center':'Pearson Correlation of Features'}>"
      ]
     },
     "execution_count": 36,
     "metadata": {},
     "output_type": "execute_result"
    },
    {
     "data": {
      "image/png": "[encoded data removed]",
      "text/plain": [
       "<Figure size 5760x1152 with 2 Axes>"
      ]
     },
     "metadata": {},
     "output_type": "display_data"
    }
   ],
   "source": [
    "colormap = plt.cm.RdBu\n",
    "plt.figure(figsize=(80,16))\n",
    "plt.title('Pearson Correlation of Features', y=1.05, size=30)\n",
    "sns.heatmap(df.corr(),linewidths=0.001,vmax=1.0, \n",
    "            square=True,linecolor='white',cmap=colormap, annot=True)"
   ]
  },
  {
   "cell_type": "code",
   "execution_count": 37,
   "metadata": {},
   "outputs": [],
   "source": [
    "from sklearn import model_selection"
   ]
  },
  {
   "cell_type": "code",
   "execution_count": 38,
   "metadata": {},
   "outputs": [],
   "source": [
    "# df.drop(columns=['G1', 'G2', 'G3'])"
   ]
  },
  {
   "cell_type": "code",
   "execution_count": null,
   "metadata": {},
   "outputs": [],
   "source": []
  },
  {
   "cell_type": "code",
   "execution_count": 39,
   "metadata": {},
   "outputs": [],
   "source": [
    "random_state = 42\n",
    "# Cross validate model with Kfold stratified cross val\n",
    "kfold = StratifiedKFold(n_splits=5)\n",
    "\n",
    "#separate dataset into X_train and Y_train:\n",
    "def separate(X_train):\n",
    "    X = X_train.drop(columns= ['qual_student'])\n",
    "    Y = X_train['qual_student']\n",
    "    return X, Y\n",
    "\n",
    "X_encoded, Y_encoded = separate(df)"
   ]
  },
  {
   "cell_type": "code",
   "execution_count": 40,
   "metadata": {
    "scrolled": true
   },
   "outputs": [
    {
     "name": "stdout",
     "output_type": "stream",
     "text": [
      "SVC: 0.954372 (0.018770)\n",
      "DecisionTree: 1.000000 (0.000000)\n",
      "AdaBoost: 1.000000 (0.000000)\n",
      "RandomForest: 1.000000 (0.000000)\n",
      "GradientBoost: 1.000000 (0.000000)\n",
      "MLP: 0.949321 (0.025122)\n",
      "KNN: 0.815155 (0.010121)\n"
     ]
    }
   ],
   "source": [
    "# Modeling step Test differents algorithms \n",
    "random_state = 42\n",
    "classifiers = []\n",
    "\n",
    "classifiers.append(('SVC', make_pipeline(StandardScaler(),SVC(random_state=random_state))))\n",
    "classifiers.append(('DecisionTree', DecisionTreeClassifier(random_state=random_state)))\n",
    "classifiers.append(('AdaBoost', AdaBoostClassifier(DecisionTreeClassifier(random_state=random_state),\\\n",
    "                                                  random_state=random_state,learning_rate=0.1)))\n",
    "classifiers.append(('RandomForest', RandomForestClassifier(random_state=random_state)))\n",
    "classifiers.append(('GradientBoost', GradientBoostingClassifier(random_state=random_state)))\n",
    "classifiers.append(('MLP', make_pipeline(StandardScaler(), MLPClassifier(random_state=random_state))))\n",
    "classifiers.append(('KNN',make_pipeline(MinMaxScaler(),KNeighborsClassifier(n_neighbors=7))))\n",
    "\n",
    "# evaluate each model \n",
    "results = []\n",
    "names = []\n",
    "for name, classifier in classifiers:\n",
    "    kfold = model_selection.KFold(n_splits= 3, random_state=random_state, shuffle = True)\n",
    "    cv_results = model_selection.cross_val_score(classifier, X_encoded, y = Y_encoded, cv=kfold, scoring='accuracy')\n",
    "    results.append(cv_results)\n",
    "    names.append(name)\n",
    "    msg = \"%s: %f (%f)\" % (name, cv_results.mean(), cv_results.std())\n",
    "    print(msg)"
   ]
  },
  {
   "cell_type": "markdown",
   "metadata": {},
   "source": [
    "Hmm, many of our models got 100% accuracy WITH stratified cross validation? Seems a bit too good to be true.  \n",
    "Let's get rid of top 3 most corrrelated variables -- G1, G2, and G3 -- and try again."
   ]
  },
  {
   "cell_type": "code",
   "execution_count": 41,
   "metadata": {},
   "outputs": [],
   "source": [
    "df_dropped_Gs = df.drop(columns=['G1', 'G2', 'G3'])"
   ]
  },
  {
   "cell_type": "code",
   "execution_count": 42,
   "metadata": {},
   "outputs": [],
   "source": [
    "random_state = 42\n",
    "# Cross validate model with Kfold stratified cross val\n",
    "kfold = StratifiedKFold(n_splits=5)\n",
    "\n",
    "#separate dataset into X_train and Y_train:\n",
    "def separate(X_train):\n",
    "    X = X_train.drop(columns= ['qual_student'])\n",
    "    Y = X_train['qual_student']\n",
    "    return X, Y\n",
    "\n",
    "X_encoded, Y_encoded = separate(df_dropped_Gs)"
   ]
  },
  {
   "cell_type": "code",
   "execution_count": 43,
   "metadata": {},
   "outputs": [
    {
     "name": "stdout",
     "output_type": "stream",
     "text": [
      "accuracy: 0.803030303030303\n",
      "precision: 0.4015151515151515\n",
      "recall: 0.5\n",
      "f1 score: 0.4453781512605042\n",
      "\n",
      "accuracy: 0.8257575757575758\n",
      "precision: 0.4128787878787879\n",
      "recall: 0.5\n",
      "f1 score: 0.4522821576763486\n",
      "\n",
      "accuracy: 0.816793893129771\n",
      "precision: 0.4083969465648855\n",
      "recall: 0.5\n",
      "f1 score: 0.44957983193277307\n",
      "\n",
      "cv_results [1.70454545 1.73863636 1.72519084]\n",
      "SVC: 1.722791 (0.014021)\n",
      "\n",
      "accuracy: 0.6818181818181818\n",
      "precision: 0.5235294117647059\n",
      "recall: 0.5261248185776488\n",
      "f1 score: 0.5240384615384616\n",
      "\n",
      "accuracy: 0.7045454545454546\n",
      "precision: 0.55\n",
      "recall: 0.5638213003589948\n",
      "f1 score: 0.5521531100478468\n",
      "\n",
      "accuracy: 0.7175572519083969\n",
      "precision: 0.5478988603988604\n",
      "recall: 0.5523753894080997\n",
      "f1 score: 0.5495771768423009\n",
      "\n",
      "cv_results [1.73147241 1.81836675 1.8178315 ]\n",
      "DecisionTree: 1.789224 (0.040837)\n",
      "\n",
      "accuracy: 0.6742424242424242\n",
      "precision: 0.5303030303030303\n",
      "recall: 0.5359216255442671\n",
      "f1 score: 0.5307151715584952\n",
      "\n",
      "accuracy: 0.696969696969697\n",
      "precision: 0.5209240040174088\n",
      "recall: 0.5249301954527323\n",
      "f1 score: 0.521044992743106\n",
      "\n",
      "accuracy: 0.732824427480916\n",
      "precision: 0.5326839826839826\n",
      "recall: 0.5294003115264797\n",
      "f1 score: 0.5304659498207887\n",
      "\n",
      "cv_results [1.74046708 1.7428239  1.79490872]\n",
      "AdaBoost: 1.759400 (0.025127)\n",
      "\n",
      "accuracy: 0.803030303030303\n",
      "precision: 0.65625\n",
      "recall: 0.5290275761973875\n",
      "f1 score: 0.5111111111111111\n",
      "\n",
      "accuracy: 0.8106060606060606\n",
      "precision: 0.4115384615384615\n",
      "recall: 0.4908256880733945\n",
      "f1 score: 0.44769874476987453\n",
      "\n",
      "accuracy: 0.816793893129771\n",
      "precision: 0.6608527131782946\n",
      "recall: 0.5161604361370716\n",
      "f1 score: 0.4876140808344198\n",
      "\n",
      "cv_results [1.98830788 1.71297021 1.99380704]\n",
      "RandomForest: 1.898362 (0.131111)\n",
      "\n",
      "accuracy: 0.7727272727272727\n",
      "precision: 0.575\n",
      "recall: 0.5391872278664731\n",
      "f1 score: 0.5388914764788076\n",
      "\n",
      "accuracy: 0.7727272727272727\n",
      "precision: 0.5313510019392372\n",
      "recall: 0.5193458316713203\n",
      "f1 score: 0.5175438596491229\n",
      "\n",
      "accuracy: 0.8015267175572519\n",
      "precision: 0.6021341463414633\n",
      "recall: 0.5391355140186915\n",
      "f1 score: 0.5372282608695652\n",
      "\n",
      "cv_results [1.8869145  1.82342411 1.94279638]\n",
      "GradientBoost: 1.884378 (0.048767)\n",
      "\n",
      "accuracy: 0.7575757575757576\n",
      "precision: 0.5291666666666667\n",
      "recall: 0.5152394775036284\n",
      "f1 score: 0.5081509082440614\n",
      "\n",
      "accuracy: 0.7651515151515151\n",
      "precision: 0.4958333333333333\n",
      "recall: 0.4976067012365377\n",
      "f1 score: 0.4894572676232065\n",
      "\n",
      "accuracy: 0.7862595419847328\n",
      "precision: 0.535569105691057\n",
      "recall: 0.5136292834890965\n",
      "f1 score: 0.5016304347826087\n",
      "\n",
      "cv_results [1.8019819  1.75859155 1.83545793]\n",
      "MLP: 1.798677 (0.031467)\n",
      "\n",
      "accuracy: 0.7954545454545454\n",
      "precision: 0.40076335877862596\n",
      "recall: 0.49528301886792453\n",
      "f1 score: 0.44303797468354433\n",
      "\n",
      "accuracy: 0.7651515151515151\n",
      "precision: 0.4598360655737705\n",
      "recall: 0.48045472676505785\n",
      "f1 score: 0.4632034632034633\n",
      "\n",
      "accuracy: 0.7404580152671756\n",
      "precision: 0.4450280112044818\n",
      "recall: 0.4694314641744548\n",
      "f1 score: 0.4525565388397247\n",
      "\n",
      "cv_results [1.69150092 1.70544231 1.65491749]\n",
      "KNN: 1.683954 (0.021306)\n",
      "\n"
     ]
    }
   ],
   "source": [
    "# Modeling step Test differents algorithms \n",
    "random_state = 42\n",
    "classifiers = []\n",
    "\n",
    "classifiers.append(('SVC', make_pipeline(StandardScaler(),SVC(random_state=random_state))))\n",
    "classifiers.append(('DecisionTree', DecisionTreeClassifier(random_state=random_state)))\n",
    "classifiers.append(('AdaBoost', AdaBoostClassifier(DecisionTreeClassifier(random_state=random_state),\\\n",
    "                                                  random_state=random_state,learning_rate=0.1)))\n",
    "classifiers.append(('RandomForest', RandomForestClassifier(random_state=random_state)))\n",
    "classifiers.append(('GradientBoost', GradientBoostingClassifier(random_state=random_state)))\n",
    "classifiers.append(('MLP', make_pipeline(StandardScaler(), MLPClassifier(random_state=random_state))))\n",
    "classifiers.append(('KNN',make_pipeline(MinMaxScaler(),KNeighborsClassifier(n_neighbors=7))))\n",
    "\n",
    "# evaluate each model \n",
    "results = []\n",
    "names = []\n",
    "for name, classifier in classifiers:\n",
    "    kfold = model_selection.KFold(n_splits= 3, random_state=random_state, shuffle = True)\n",
    "#     cv_results = model_selection.cross_val_score(classifier, X_encoded, y = Y_encoded, cv=kfold, scoring='accuracy')\n",
    "    cv_results = model_selection.cross_val_score(classifier, X_encoded, y = Y_encoded, cv=kfold, scoring=my_scorer)\n",
    "    print('cv_results', cv_results)\n",
    "    results.append(cv_results)\n",
    "    names.append(name)\n",
    "    msg = \"%s: %f (%f)\" % (name, cv_results.mean(), cv_results.std())\n",
    "    print(msg)\n",
    "    print()"
   ]
  },
  {
   "cell_type": "code",
   "execution_count": 44,
   "metadata": {},
   "outputs": [
    {
     "data": {
      "text/plain": [
       "[('SVC',\n",
       "  Pipeline(steps=[('standardscaler', StandardScaler()),\n",
       "                  ('svc', SVC(random_state=42))])),\n",
       " ('DecisionTree', DecisionTreeClassifier(random_state=42)),\n",
       " ('AdaBoost',\n",
       "  AdaBoostClassifier(base_estimator=DecisionTreeClassifier(random_state=42),\n",
       "                     learning_rate=0.1, random_state=42)),\n",
       " ('RandomForest', RandomForestClassifier(random_state=42)),\n",
       " ('GradientBoost', GradientBoostingClassifier(random_state=42)),\n",
       " ('MLP',\n",
       "  Pipeline(steps=[('standardscaler', StandardScaler()),\n",
       "                  ('mlpclassifier', MLPClassifier(random_state=42))])),\n",
       " ('KNN',\n",
       "  Pipeline(steps=[('minmaxscaler', MinMaxScaler()),\n",
       "                  ('kneighborsclassifier', KNeighborsClassifier(n_neighbors=7))]))]"
      ]
     },
     "execution_count": 44,
     "metadata": {},
     "output_type": "execute_result"
    }
   ],
   "source": [
    "classifiers"
   ]
  },
  {
   "cell_type": "code",
   "execution_count": 45,
   "metadata": {},
   "outputs": [
    {
     "data": {
      "text/html": [
       "<div>\n",
       "<style scoped>\n",
       "    .dataframe tbody tr th:only-of-type {\n",
       "        vertical-align: middle;\n",
       "    }\n",
       "\n",
       "    .dataframe tbody tr th {\n",
       "        vertical-align: top;\n",
       "    }\n",
       "\n",
       "    .dataframe thead th {\n",
       "        text-align: right;\n",
       "    }\n",
       "</style>\n",
       "<table border=\"1\" class=\"dataframe\">\n",
       "  <thead>\n",
       "    <tr style=\"text-align: right;\">\n",
       "      <th></th>\n",
       "      <th>school</th>\n",
       "      <th>age</th>\n",
       "      <th>famsize</th>\n",
       "      <th>reason</th>\n",
       "      <th>traveltime</th>\n",
       "      <th>studytime</th>\n",
       "      <th>failures</th>\n",
       "      <th>schoolsup</th>\n",
       "      <th>famsup</th>\n",
       "      <th>paid</th>\n",
       "      <th>activities</th>\n",
       "      <th>higher</th>\n",
       "      <th>freetime</th>\n",
       "      <th>Walc</th>\n",
       "      <th>absences</th>\n",
       "      <th>G1</th>\n",
       "      <th>G2</th>\n",
       "      <th>G3</th>\n",
       "      <th>qual_student</th>\n",
       "    </tr>\n",
       "  </thead>\n",
       "  <tbody>\n",
       "    <tr>\n",
       "      <th>0</th>\n",
       "      <td>0</td>\n",
       "      <td>18</td>\n",
       "      <td>0</td>\n",
       "      <td>0</td>\n",
       "      <td>2</td>\n",
       "      <td>2</td>\n",
       "      <td>0</td>\n",
       "      <td>1</td>\n",
       "      <td>0</td>\n",
       "      <td>0</td>\n",
       "      <td>0</td>\n",
       "      <td>1</td>\n",
       "      <td>3</td>\n",
       "      <td>1</td>\n",
       "      <td>6</td>\n",
       "      <td>5</td>\n",
       "      <td>6</td>\n",
       "      <td>6</td>\n",
       "      <td>0</td>\n",
       "    </tr>\n",
       "    <tr>\n",
       "      <th>1</th>\n",
       "      <td>0</td>\n",
       "      <td>17</td>\n",
       "      <td>0</td>\n",
       "      <td>0</td>\n",
       "      <td>1</td>\n",
       "      <td>2</td>\n",
       "      <td>0</td>\n",
       "      <td>0</td>\n",
       "      <td>1</td>\n",
       "      <td>0</td>\n",
       "      <td>0</td>\n",
       "      <td>1</td>\n",
       "      <td>3</td>\n",
       "      <td>1</td>\n",
       "      <td>4</td>\n",
       "      <td>5</td>\n",
       "      <td>5</td>\n",
       "      <td>6</td>\n",
       "      <td>0</td>\n",
       "    </tr>\n",
       "    <tr>\n",
       "      <th>2</th>\n",
       "      <td>0</td>\n",
       "      <td>15</td>\n",
       "      <td>1</td>\n",
       "      <td>2</td>\n",
       "      <td>1</td>\n",
       "      <td>2</td>\n",
       "      <td>3</td>\n",
       "      <td>1</td>\n",
       "      <td>0</td>\n",
       "      <td>1</td>\n",
       "      <td>0</td>\n",
       "      <td>1</td>\n",
       "      <td>3</td>\n",
       "      <td>3</td>\n",
       "      <td>10</td>\n",
       "      <td>7</td>\n",
       "      <td>8</td>\n",
       "      <td>10</td>\n",
       "      <td>0</td>\n",
       "    </tr>\n",
       "    <tr>\n",
       "      <th>3</th>\n",
       "      <td>0</td>\n",
       "      <td>15</td>\n",
       "      <td>0</td>\n",
       "      <td>1</td>\n",
       "      <td>1</td>\n",
       "      <td>3</td>\n",
       "      <td>0</td>\n",
       "      <td>0</td>\n",
       "      <td>1</td>\n",
       "      <td>1</td>\n",
       "      <td>1</td>\n",
       "      <td>1</td>\n",
       "      <td>2</td>\n",
       "      <td>1</td>\n",
       "      <td>2</td>\n",
       "      <td>15</td>\n",
       "      <td>14</td>\n",
       "      <td>15</td>\n",
       "      <td>1</td>\n",
       "    </tr>\n",
       "    <tr>\n",
       "      <th>4</th>\n",
       "      <td>0</td>\n",
       "      <td>16</td>\n",
       "      <td>0</td>\n",
       "      <td>1</td>\n",
       "      <td>1</td>\n",
       "      <td>2</td>\n",
       "      <td>0</td>\n",
       "      <td>0</td>\n",
       "      <td>1</td>\n",
       "      <td>1</td>\n",
       "      <td>0</td>\n",
       "      <td>1</td>\n",
       "      <td>3</td>\n",
       "      <td>2</td>\n",
       "      <td>4</td>\n",
       "      <td>6</td>\n",
       "      <td>10</td>\n",
       "      <td>10</td>\n",
       "      <td>0</td>\n",
       "    </tr>\n",
       "    <tr>\n",
       "      <th>...</th>\n",
       "      <td>...</td>\n",
       "      <td>...</td>\n",
       "      <td>...</td>\n",
       "      <td>...</td>\n",
       "      <td>...</td>\n",
       "      <td>...</td>\n",
       "      <td>...</td>\n",
       "      <td>...</td>\n",
       "      <td>...</td>\n",
       "      <td>...</td>\n",
       "      <td>...</td>\n",
       "      <td>...</td>\n",
       "      <td>...</td>\n",
       "      <td>...</td>\n",
       "      <td>...</td>\n",
       "      <td>...</td>\n",
       "      <td>...</td>\n",
       "      <td>...</td>\n",
       "      <td>...</td>\n",
       "    </tr>\n",
       "    <tr>\n",
       "      <th>390</th>\n",
       "      <td>1</td>\n",
       "      <td>20</td>\n",
       "      <td>1</td>\n",
       "      <td>0</td>\n",
       "      <td>1</td>\n",
       "      <td>2</td>\n",
       "      <td>2</td>\n",
       "      <td>0</td>\n",
       "      <td>1</td>\n",
       "      <td>1</td>\n",
       "      <td>0</td>\n",
       "      <td>1</td>\n",
       "      <td>5</td>\n",
       "      <td>5</td>\n",
       "      <td>11</td>\n",
       "      <td>9</td>\n",
       "      <td>9</td>\n",
       "      <td>9</td>\n",
       "      <td>0</td>\n",
       "    </tr>\n",
       "    <tr>\n",
       "      <th>391</th>\n",
       "      <td>1</td>\n",
       "      <td>17</td>\n",
       "      <td>1</td>\n",
       "      <td>0</td>\n",
       "      <td>2</td>\n",
       "      <td>1</td>\n",
       "      <td>0</td>\n",
       "      <td>0</td>\n",
       "      <td>0</td>\n",
       "      <td>0</td>\n",
       "      <td>0</td>\n",
       "      <td>1</td>\n",
       "      <td>4</td>\n",
       "      <td>4</td>\n",
       "      <td>3</td>\n",
       "      <td>14</td>\n",
       "      <td>16</td>\n",
       "      <td>16</td>\n",
       "      <td>1</td>\n",
       "    </tr>\n",
       "    <tr>\n",
       "      <th>392</th>\n",
       "      <td>1</td>\n",
       "      <td>21</td>\n",
       "      <td>0</td>\n",
       "      <td>0</td>\n",
       "      <td>1</td>\n",
       "      <td>1</td>\n",
       "      <td>3</td>\n",
       "      <td>0</td>\n",
       "      <td>0</td>\n",
       "      <td>0</td>\n",
       "      <td>0</td>\n",
       "      <td>1</td>\n",
       "      <td>5</td>\n",
       "      <td>3</td>\n",
       "      <td>3</td>\n",
       "      <td>10</td>\n",
       "      <td>8</td>\n",
       "      <td>7</td>\n",
       "      <td>0</td>\n",
       "    </tr>\n",
       "    <tr>\n",
       "      <th>393</th>\n",
       "      <td>1</td>\n",
       "      <td>18</td>\n",
       "      <td>1</td>\n",
       "      <td>0</td>\n",
       "      <td>3</td>\n",
       "      <td>1</td>\n",
       "      <td>0</td>\n",
       "      <td>0</td>\n",
       "      <td>0</td>\n",
       "      <td>0</td>\n",
       "      <td>0</td>\n",
       "      <td>1</td>\n",
       "      <td>4</td>\n",
       "      <td>4</td>\n",
       "      <td>0</td>\n",
       "      <td>11</td>\n",
       "      <td>12</td>\n",
       "      <td>10</td>\n",
       "      <td>0</td>\n",
       "    </tr>\n",
       "    <tr>\n",
       "      <th>394</th>\n",
       "      <td>1</td>\n",
       "      <td>19</td>\n",
       "      <td>1</td>\n",
       "      <td>0</td>\n",
       "      <td>1</td>\n",
       "      <td>1</td>\n",
       "      <td>0</td>\n",
       "      <td>0</td>\n",
       "      <td>0</td>\n",
       "      <td>0</td>\n",
       "      <td>0</td>\n",
       "      <td>1</td>\n",
       "      <td>2</td>\n",
       "      <td>3</td>\n",
       "      <td>5</td>\n",
       "      <td>8</td>\n",
       "      <td>9</td>\n",
       "      <td>9</td>\n",
       "      <td>0</td>\n",
       "    </tr>\n",
       "  </tbody>\n",
       "</table>\n",
       "<p>395 rows × 19 columns</p>\n",
       "</div>"
      ],
      "text/plain": [
       "     school  age  famsize  reason  traveltime  studytime  failures  schoolsup  \\\n",
       "0         0   18        0       0           2          2         0          1   \n",
       "1         0   17        0       0           1          2         0          0   \n",
       "2         0   15        1       2           1          2         3          1   \n",
       "3         0   15        0       1           1          3         0          0   \n",
       "4         0   16        0       1           1          2         0          0   \n",
       "..      ...  ...      ...     ...         ...        ...       ...        ...   \n",
       "390       1   20        1       0           1          2         2          0   \n",
       "391       1   17        1       0           2          1         0          0   \n",
       "392       1   21        0       0           1          1         3          0   \n",
       "393       1   18        1       0           3          1         0          0   \n",
       "394       1   19        1       0           1          1         0          0   \n",
       "\n",
       "     famsup  paid  activities  higher  freetime  Walc  absences  G1  G2  G3  \\\n",
       "0         0     0           0       1         3     1         6   5   6   6   \n",
       "1         1     0           0       1         3     1         4   5   5   6   \n",
       "2         0     1           0       1         3     3        10   7   8  10   \n",
       "3         1     1           1       1         2     1         2  15  14  15   \n",
       "4         1     1           0       1         3     2         4   6  10  10   \n",
       "..      ...   ...         ...     ...       ...   ...       ...  ..  ..  ..   \n",
       "390       1     1           0       1         5     5        11   9   9   9   \n",
       "391       0     0           0       1         4     4         3  14  16  16   \n",
       "392       0     0           0       1         5     3         3  10   8   7   \n",
       "393       0     0           0       1         4     4         0  11  12  10   \n",
       "394       0     0           0       1         2     3         5   8   9   9   \n",
       "\n",
       "     qual_student  \n",
       "0               0  \n",
       "1               0  \n",
       "2               0  \n",
       "3               1  \n",
       "4               0  \n",
       "..            ...  \n",
       "390             0  \n",
       "391             1  \n",
       "392             0  \n",
       "393             0  \n",
       "394             0  \n",
       "\n",
       "[395 rows x 19 columns]"
      ]
     },
     "execution_count": 45,
     "metadata": {},
     "output_type": "execute_result"
    }
   ],
   "source": [
    "df"
   ]
  },
  {
   "cell_type": "code",
   "execution_count": 121,
   "metadata": {},
   "outputs": [
    {
     "data": {
      "text/plain": [
       "RandomForestClassifier(n_estimators=1000)"
      ]
     },
     "execution_count": 121,
     "metadata": {},
     "output_type": "execute_result"
    }
   ],
   "source": [
    "from sklearn.ensemble import RandomForestClassifier as rf\n",
    "import sklearn\n",
    "dependent_variable = 'qual_student'\n",
    "x = df[df.columns.difference(['G1', 'G2', 'G3', dependent_variable] + unethical_features)]\n",
    "y = df[dependent_variable]\n",
    "clf = rf(n_estimators = 1000)\n",
    "clf.fit(x, y)"
   ]
  },
  {
   "cell_type": "code",
   "execution_count": 122,
   "metadata": {},
   "outputs": [
    {
     "data": {
      "text/plain": [
       "1.0"
      ]
     },
     "execution_count": 122,
     "metadata": {},
     "output_type": "execute_result"
    }
   ],
   "source": [
    "pred = clf.predict(x)\n",
    "sklearn.metrics.f1_score(y, pred, average='binary')"
   ]
  },
  {
   "cell_type": "code",
   "execution_count": 123,
   "metadata": {},
   "outputs": [
    {
     "data": {
      "text/plain": [
       "0      0\n",
       "1      0\n",
       "2      0\n",
       "3      1\n",
       "4      0\n",
       "      ..\n",
       "390    0\n",
       "391    1\n",
       "392    0\n",
       "393    0\n",
       "394    0\n",
       "Name: qual_student, Length: 395, dtype: int64"
      ]
     },
     "execution_count": 123,
     "metadata": {},
     "output_type": "execute_result"
    }
   ],
   "source": [
    "y"
   ]
  },
  {
   "cell_type": "code",
   "execution_count": 130,
   "metadata": {},
   "outputs": [],
   "source": [
    "# pred"
   ]
  },
  {
   "cell_type": "code",
   "execution_count": 131,
   "metadata": {},
   "outputs": [],
   "source": [
    "# x"
   ]
  },
  {
   "cell_type": "code",
   "execution_count": 132,
   "metadata": {},
   "outputs": [],
   "source": [
    "# clf.predict(x[3:4])"
   ]
  },
  {
   "cell_type": "code",
   "execution_count": 48,
   "metadata": {},
   "outputs": [],
   "source": [
    "from sklearn.tree import export_graphviz\n",
    "\n",
    "from sklearn import tree\n",
    "\n",
    "# dotfile = six.StringIO()\n",
    "# i_tree = 0\n",
    "for tree_in_forest in clf.estimators_:\n",
    "    export_graphviz(tree_in_forest,\n",
    "                feature_names=[x for x in df.columns if x not in ['G1', 'G2', 'G3', dependent_variable]],\n",
    "                filled=True,\n",
    "                rounded=True)\n",
    "# if (i_tree <1):        \n",
    "#     tree.export_graphviz(tree_in_forest, out_file=dotfile)\n",
    "#     pydotplus.graph_from_dot_data(dotfile.getvalue()).write_png('dtree'+ str(i_tree) +'.png')\n",
    "#     i_tree = i_tree + 1"
   ]
  },
  {
   "cell_type": "code",
   "execution_count": null,
   "metadata": {},
   "outputs": [],
   "source": []
  },
  {
   "cell_type": "markdown",
   "metadata": {},
   "source": [
    "# Conclusion"
   ]
  },
  {
   "cell_type": "markdown",
   "metadata": {},
   "source": [
    "Changes:\n",
    "    - We have dropped {G1, G2, G3} from the dataset \n",
    "    - We have dropped unethical_features from the dataset:\n",
    "        - `unethical_features = [‘sex’, ‘address’, ‘Pstatus’, ‘Medu’, ‘Fedu’, ‘Mjob’, ‘Fjob’, ‘nursery’, ‘internet’, ‘romantic’, ‘famrel’, ‘guardian’, ‘goout’, ‘Dalc’, ‘health’]`\n",
    "\n",
    "Old Model (Random Forest) vs New Model (Random Forest):\n",
    "\n",
    "---\n",
    "    \n",
    "Old Model: \n",
    "        \n",
    "accuracy: 0.7803030303030303  \n",
    "precision: 0.6040723981900452  \n",
    "recall: 0.5584179970972424 \n",
    "f1 score: 0.5696320447135538\n",
    "\n",
    "accuracy: 0.7878787878787878  \n",
    "precision: 0.48342857142857143  \n",
    "recall: 0.4942161946549661  \n",
    "f1 score: 0.4735042735042735  \n",
    "\n",
    "accuracy: 0.8015267175572519  \n",
    "precision: 0.6021341463414633  \n",
    "recall: 0.5391355140186915  \n",
    "f1 score: 0.5060745705906996  \n",
    "\n",
    "RandomForest: 1.883704 (0.083567)\n",
    "    \n",
    "---\n",
    "\n",
    "New Model:\n",
    "\n",
    "accuracy: 0.803030303030303  \n",
    "precision: 0.65625  \n",
    "recall: 0.5290275761973875  \n",
    "f1 score: 0.5111111111111111  \n",
    "  \n",
    "accuracy: 0.8106060606060606  \n",
    "precision: 0.4115384615384615  \n",
    "recall: 0.4908256880733945  \n",
    "f1 score: 0.44769874476987453  \n",
    "  \n",
    "accuracy: 0.816793893129771  \n",
    "precision: 0.6608527131782946  \n",
    "recall: 0.5161604361370716  \n",
    "f1 score: 0.4876140808344198  \n",
    "  \n",
    "cv_results [1.98830788 1.71297021 1.99380704]  \n",
    "RandomForest: 1.898362 (0.131111)  \n",
    "\n",
    "---\n"
   ]
  },
  {
   "cell_type": "code",
   "execution_count": 49,
   "metadata": {},
   "outputs": [],
   "source": [
    "\n",
    "# archive\n",
    "# [this was back when we used all the unethical features]\n",
    "# un\n",
    "# New Model:\n",
    "    \n",
    "# accuracy: 0.8106060606060606  \n",
    "# precision: 0.9045801526717557  \n",
    "# recall: 0.5192307692307693  \n",
    "# f1 score: 0.48429442100328174  \n",
    "\n",
    "# accuracy: 0.8333333333333334  \n",
    "# precision: 0.916030534351145  \n",
    "# recall: 0.5217391304347826  \n",
    "# f1 score: 0.4958333333333334  \n",
    "\n",
    "# accuracy: 0.8091603053435115  \n",
    "# precision: 0.5768229166666666  \n",
    "# recall: 0.51148753894081  \n",
    "# f1 score: 0.4838455476753349  \n",
    "\n",
    "# cv_results [2.23441698 2.271103   1.89747076]  \n",
    "# RandomForest: 2.134330 (0.168153)\n",
    "\n",
    "# ---"
   ]
  },
  {
   "cell_type": "markdown",
   "metadata": {},
   "source": []
  },
  {
   "cell_type": "markdown",
   "metadata": {},
   "source": [
    "# Export model for deployment"
   ]
  },
  {
   "cell_type": "code",
   "execution_count": null,
   "metadata": {},
   "outputs": [],
   "source": []
  },
  {
   "cell_type": "code",
   "execution_count": 91,
   "metadata": {},
   "outputs": [
    {
     "ename": "AttributeError",
     "evalue": "'RandomForestClassifier' object has no attribute 'tree_'",
     "output_type": "error",
     "traceback": [
      "\u001b[0;31m---------------------------------------------------------------------------\u001b[0m",
      "\u001b[0;31mAttributeError\u001b[0m                            Traceback (most recent call last)",
      "\u001b[0;32m/var/folders/xm/cpqnhjgx1tz0yk72bxssh24m0000gn/T/ipykernel_11896/362517965.py\u001b[0m in \u001b[0;36m<module>\u001b[0;34m\u001b[0m\n\u001b[1;32m      1\u001b[0m \u001b[0;32mfrom\u001b[0m \u001b[0mio\u001b[0m \u001b[0;32mimport\u001b[0m \u001b[0mStringIO\u001b[0m\u001b[0;34m\u001b[0m\u001b[0;34m\u001b[0m\u001b[0m\n\u001b[1;32m      2\u001b[0m \u001b[0;34m\u001b[0m\u001b[0m\n\u001b[0;32m----> 3\u001b[0;31m \u001b[0mfeat_importance\u001b[0m \u001b[0;34m=\u001b[0m \u001b[0mclf\u001b[0m\u001b[0;34m.\u001b[0m\u001b[0mtree_\u001b[0m\u001b[0;34m.\u001b[0m\u001b[0mcompute_feature_importances\u001b[0m\u001b[0;34m(\u001b[0m\u001b[0mnormalize\u001b[0m\u001b[0;34m=\u001b[0m\u001b[0;32mFalse\u001b[0m\u001b[0;34m)\u001b[0m\u001b[0;34m\u001b[0m\u001b[0;34m\u001b[0m\u001b[0m\n\u001b[0m\u001b[1;32m      4\u001b[0m \u001b[0mprint\u001b[0m\u001b[0;34m(\u001b[0m\u001b[0;34m\"feat importance = \"\u001b[0m \u001b[0;34m+\u001b[0m \u001b[0mstr\u001b[0m\u001b[0;34m(\u001b[0m\u001b[0mfeat_importance\u001b[0m\u001b[0;34m)\u001b[0m\u001b[0;34m)\u001b[0m\u001b[0;34m\u001b[0m\u001b[0;34m\u001b[0m\u001b[0m\n\u001b[1;32m      5\u001b[0m \u001b[0;34m\u001b[0m\u001b[0m\n",
      "\u001b[0;31mAttributeError\u001b[0m: 'RandomForestClassifier' object has no attribute 'tree_'"
     ]
    }
   ],
   "source": [
    "# from io import StringIO\n",
    "\n",
    "# feat_importance = clf.tree_.compute_feature_importances(normalize=False)\n",
    "# print(\"feat importance = \" + str(feat_importance))\n",
    "\n",
    "# out = StringIO()\n",
    "# out = export_graphviz(clf, out_file='test/tree.dot')"
   ]
  },
  {
   "cell_type": "code",
   "execution_count": 96,
   "metadata": {},
   "outputs": [
    {
     "data": {
      "text/plain": [
       "19"
      ]
     },
     "execution_count": 96,
     "metadata": {},
     "output_type": "execute_result"
    }
   ],
   "source": []
  },
  {
   "cell_type": "code",
   "execution_count": null,
   "metadata": {},
   "outputs": [],
   "source": []
  },
  {
   "cell_type": "code",
   "execution_count": 95,
   "metadata": {},
   "outputs": [
    {
     "data": {
      "text/plain": [
       "15"
      ]
     },
     "execution_count": 95,
     "metadata": {},
     "output_type": "execute_result"
    }
   ],
   "source": [
    "len(clf.feature_importances_)"
   ]
  },
  {
   "cell_type": "code",
   "execution_count": 97,
   "metadata": {},
   "outputs": [
    {
     "data": {
      "text/plain": [
       "<BarContainer object of 15 artists>"
      ]
     },
     "execution_count": 97,
     "metadata": {},
     "output_type": "execute_result"
    },
    {
     "data": {
      "image/png": "[encoded data removed]",
      "text/plain": [
       "<Figure size 432x288 with 1 Axes>"
      ]
     },
     "metadata": {},
     "output_type": "display_data"
    }
   ],
   "source": [
    "plt.barh([x for x in df.columns if x not in 'G1 G2 G3 qual_student'.split(' ')], clf.feature_importances_)"
   ]
  },
  {
   "cell_type": "code",
   "execution_count": 108,
   "metadata": {},
   "outputs": [],
   "source": [
    "tmp = df[df['qual_student'] == 1].mode().loc[0]"
   ]
  },
  {
   "cell_type": "code",
   "execution_count": 111,
   "metadata": {},
   "outputs": [],
   "source": []
  },
  {
   "cell_type": "code",
   "execution_count": 144,
   "metadata": {},
   "outputs": [],
   "source": [
    "# clf.predict_proba(df[3:4].drop(columns='G1 G2 G3 qual_student'.split(' ')))"
   ]
  },
  {
   "cell_type": "code",
   "execution_count": 136,
   "metadata": {},
   "outputs": [
    {
     "data": {
      "text/html": [
       "<div>\n",
       "<style scoped>\n",
       "    .dataframe tbody tr th:only-of-type {\n",
       "        vertical-align: middle;\n",
       "    }\n",
       "\n",
       "    .dataframe tbody tr th {\n",
       "        vertical-align: top;\n",
       "    }\n",
       "\n",
       "    .dataframe thead th {\n",
       "        text-align: right;\n",
       "    }\n",
       "</style>\n",
       "<table border=\"1\" class=\"dataframe\">\n",
       "  <thead>\n",
       "    <tr style=\"text-align: right;\">\n",
       "      <th></th>\n",
       "      <th>Walc</th>\n",
       "      <th>absences</th>\n",
       "      <th>activities</th>\n",
       "      <th>age</th>\n",
       "      <th>failures</th>\n",
       "      <th>famsize</th>\n",
       "      <th>famsup</th>\n",
       "      <th>freetime</th>\n",
       "      <th>higher</th>\n",
       "      <th>paid</th>\n",
       "      <th>reason</th>\n",
       "      <th>school</th>\n",
       "      <th>schoolsup</th>\n",
       "      <th>studytime</th>\n",
       "      <th>traveltime</th>\n",
       "    </tr>\n",
       "  </thead>\n",
       "  <tbody>\n",
       "    <tr>\n",
       "      <th>3</th>\n",
       "      <td>1</td>\n",
       "      <td>2</td>\n",
       "      <td>1</td>\n",
       "      <td>15</td>\n",
       "      <td>0</td>\n",
       "      <td>0</td>\n",
       "      <td>1</td>\n",
       "      <td>2</td>\n",
       "      <td>1</td>\n",
       "      <td>1</td>\n",
       "      <td>1</td>\n",
       "      <td>0</td>\n",
       "      <td>0</td>\n",
       "      <td>3</td>\n",
       "      <td>1</td>\n",
       "    </tr>\n",
       "  </tbody>\n",
       "</table>\n",
       "</div>"
      ],
      "text/plain": [
       "   Walc  absences  activities  age  failures  famsize  famsup  freetime  \\\n",
       "3     1         2           1   15         0        0       1         2   \n",
       "\n",
       "   higher  paid  reason  school  schoolsup  studytime  traveltime  \n",
       "3       1     1       1       0          0          3           1  "
      ]
     },
     "execution_count": 136,
     "metadata": {},
     "output_type": "execute_result"
    }
   ],
   "source": [
    "x[3:4]"
   ]
  },
  {
   "cell_type": "code",
   "execution_count": 150,
   "metadata": {},
   "outputs": [
    {
     "data": {
      "text/plain": [
       "{'Walc': 1,\n",
       " 'absences': 2,\n",
       " 'activities': 1,\n",
       " 'age': 15,\n",
       " 'failures': 0,\n",
       " 'famsize': 0,\n",
       " 'famsup': 1,\n",
       " 'freetime': 2,\n",
       " 'higher': 1,\n",
       " 'paid': 1,\n",
       " 'reason': 1,\n",
       " 'school': 0,\n",
       " 'schoolsup': 0,\n",
       " 'studytime': 3,\n",
       " 'traveltime': 1}"
      ]
     },
     "execution_count": 150,
     "metadata": {},
     "output_type": "execute_result"
    }
   ],
   "source": [
    "{k:int(x[3:4][k]) for k in x[3:4]}"
   ]
  },
  {
   "cell_type": "code",
   "execution_count": 162,
   "metadata": {},
   "outputs": [],
   "source": [
    "# query = {k:int(pd.Series(x[3:4][k])) for k in dict(x[3:4]) if k not in ['G1', 'G2', 'G3', 'qual_student']}\n",
    "query = {k:pd.Series(x[3:4][k]) for k in dict(x[3:4]) if k not in ['G1', 'G2', 'G3', 'qual_student']}"
   ]
  },
  {
   "cell_type": "code",
   "execution_count": 163,
   "metadata": {},
   "outputs": [],
   "source": [
    "# query"
   ]
  },
  {
   "cell_type": "code",
   "execution_count": 164,
   "metadata": {},
   "outputs": [],
   "source": [
    "query_df = pd.DataFrame(query)"
   ]
  },
  {
   "cell_type": "code",
   "execution_count": 155,
   "metadata": {},
   "outputs": [
    {
     "data": {
      "text/plain": [
       "array([[0.297, 0.703]])"
      ]
     },
     "execution_count": 155,
     "metadata": {},
     "output_type": "execute_result"
    }
   ],
   "source": [
    "clf.predict_proba(query_df)"
   ]
  },
  {
   "cell_type": "code",
   "execution_count": 54,
   "metadata": {},
   "outputs": [],
   "source": [
    "df_copy = df.copy()"
   ]
  },
  {
   "cell_type": "code",
   "execution_count": 152,
   "metadata": {},
   "outputs": [
    {
     "data": {
      "text/plain": [
       "['dockerfile/apps/hammer_model.pkl']"
      ]
     },
     "execution_count": 152,
     "metadata": {},
     "output_type": "execute_result"
    }
   ],
   "source": [
    "import joblib\n",
    "# modify the file path to where you want to save the model\n",
    "joblib.dump(clf, 'dockerfile/apps/hammer_model.pkl')"
   ]
  },
  {
   "cell_type": "code",
   "execution_count": null,
   "metadata": {},
   "outputs": [],
   "source": [
    "for col in df.columns:\n",
    "    if col not in ['G1', 'G2', 'G3', 'qual_student']:\n",
    "        print(f\"{col} = request.args.get({col})\", end = '\\n')"
   ]
  },
  {
   "cell_type": "code",
   "execution_count": null,
   "metadata": {},
   "outputs": [],
   "source": [
    "out = [ ]\n",
    "for col in df.columns:\n",
    "    if col not in ['G1', 'G2', 'G3', 'qual_student']:\n",
    "        out.append([col])\n",
    "#         print(f\"{col} = request.args.get('{col}')\", end = '\\n')\n"
   ]
  },
  {
   "cell_type": "code",
   "execution_count": null,
   "metadata": {},
   "outputs": [],
   "source": [
    "out"
   ]
  },
  {
   "cell_type": "code",
   "execution_count": null,
   "metadata": {},
   "outputs": [],
   "source": [
    "out = { }\n",
    "for col in df.columns:\n",
    "    if col not in ['G1', 'G2', 'G3', 'qual_student']:\n",
    "        out[col] = f'pd.Series({col})'\n",
    "#         print(f\"{{col}: pd.Series({col}) request.args.get('{col}')\", end = '\\n')\n",
    "print(out)"
   ]
  },
  {
   "cell_type": "code",
   "execution_count": null,
   "metadata": {},
   "outputs": [],
   "source": [
    "dict(df.loc[0])"
   ]
  },
  {
   "cell_type": "code",
   "execution_count": null,
   "metadata": {},
   "outputs": [],
   "source": [
    "df.columns"
   ]
  },
  {
   "cell_type": "code",
   "execution_count": 56,
   "metadata": {},
   "outputs": [],
   "source": [
    "query_df = pd.DataFrame({ 'age' : pd.Series(1) ,'health' : pd.Series(15) ,'absences' : pd.Series(10)})"
   ]
  },
  {
   "cell_type": "code",
   "execution_count": null,
   "metadata": {},
   "outputs": [],
   "source": [
    "pd.DataFrame({ 'age' : pd.Series(1) ,'health' : pd.Series(15) ,'absences' : pd.Series(10)})"
   ]
  },
  {
   "cell_type": "code",
   "execution_count": null,
   "metadata": {},
   "outputs": [],
   "source": [
    "{ 'age' : pd.Series(1) ,'health' : pd.Series(15) ,'absences' : pd.Series(10)}"
   ]
  },
  {
   "cell_type": "code",
   "execution_count": null,
   "metadata": {},
   "outputs": [],
   "source": []
  },
  {
   "cell_type": "code",
   "execution_count": 80,
   "metadata": {},
   "outputs": [],
   "source": [
    "query = {k:pd.Series(df.loc[3][k]) for k in dict(df.loc[3]) if k not in ['G1', 'G2', 'G3', 'qual_student']}"
   ]
  },
  {
   "cell_type": "code",
   "execution_count": 81,
   "metadata": {},
   "outputs": [
    {
     "data": {
      "text/plain": [
       "15"
      ]
     },
     "execution_count": 81,
     "metadata": {},
     "output_type": "execute_result"
    }
   ],
   "source": [
    "len(query)"
   ]
  },
  {
   "cell_type": "code",
   "execution_count": 82,
   "metadata": {},
   "outputs": [],
   "source": [
    "query_df = pd.DataFrame(query)"
   ]
  },
  {
   "cell_type": "code",
   "execution_count": 83,
   "metadata": {},
   "outputs": [
    {
     "data": {
      "text/plain": [
       "school           0\n",
       "age             15\n",
       "famsize          0\n",
       "reason           1\n",
       "traveltime       1\n",
       "studytime        3\n",
       "failures         0\n",
       "schoolsup        0\n",
       "famsup           1\n",
       "paid             1\n",
       "activities       1\n",
       "higher           1\n",
       "freetime         2\n",
       "Walc             1\n",
       "absences         2\n",
       "G1              15\n",
       "G2              14\n",
       "G3              15\n",
       "qual_student     1\n",
       "Name: 3, dtype: int64"
      ]
     },
     "execution_count": 83,
     "metadata": {},
     "output_type": "execute_result"
    }
   ],
   "source": [
    "df.loc[3]"
   ]
  },
  {
   "cell_type": "code",
   "execution_count": 84,
   "metadata": {},
   "outputs": [
    {
     "data": {
      "text/html": [
       "<div>\n",
       "<style scoped>\n",
       "    .dataframe tbody tr th:only-of-type {\n",
       "        vertical-align: middle;\n",
       "    }\n",
       "\n",
       "    .dataframe tbody tr th {\n",
       "        vertical-align: top;\n",
       "    }\n",
       "\n",
       "    .dataframe thead th {\n",
       "        text-align: right;\n",
       "    }\n",
       "</style>\n",
       "<table border=\"1\" class=\"dataframe\">\n",
       "  <thead>\n",
       "    <tr style=\"text-align: right;\">\n",
       "      <th></th>\n",
       "      <th>school</th>\n",
       "      <th>age</th>\n",
       "      <th>famsize</th>\n",
       "      <th>reason</th>\n",
       "      <th>traveltime</th>\n",
       "      <th>studytime</th>\n",
       "      <th>failures</th>\n",
       "      <th>schoolsup</th>\n",
       "      <th>famsup</th>\n",
       "      <th>paid</th>\n",
       "      <th>activities</th>\n",
       "      <th>higher</th>\n",
       "      <th>freetime</th>\n",
       "      <th>Walc</th>\n",
       "      <th>absences</th>\n",
       "    </tr>\n",
       "  </thead>\n",
       "  <tbody>\n",
       "    <tr>\n",
       "      <th>0</th>\n",
       "      <td>0</td>\n",
       "      <td>15</td>\n",
       "      <td>0</td>\n",
       "      <td>1</td>\n",
       "      <td>1</td>\n",
       "      <td>3</td>\n",
       "      <td>0</td>\n",
       "      <td>0</td>\n",
       "      <td>1</td>\n",
       "      <td>1</td>\n",
       "      <td>1</td>\n",
       "      <td>1</td>\n",
       "      <td>2</td>\n",
       "      <td>1</td>\n",
       "      <td>2</td>\n",
       "    </tr>\n",
       "  </tbody>\n",
       "</table>\n",
       "</div>"
      ],
      "text/plain": [
       "   school  age  famsize  reason  traveltime  studytime  failures  schoolsup  \\\n",
       "0       0   15        0       1           1          3         0          0   \n",
       "\n",
       "   famsup  paid  activities  higher  freetime  Walc  absences  \n",
       "0       1     1           1       1         2     1         2  "
      ]
     },
     "execution_count": 84,
     "metadata": {},
     "output_type": "execute_result"
    }
   ],
   "source": [
    "query_df"
   ]
  },
  {
   "cell_type": "code",
   "execution_count": 86,
   "metadata": {},
   "outputs": [
    {
     "data": {
      "text/plain": [
       "school           0\n",
       "age             15\n",
       "famsize          0\n",
       "reason           1\n",
       "traveltime       1\n",
       "studytime        3\n",
       "failures         0\n",
       "schoolsup        0\n",
       "famsup           1\n",
       "paid             1\n",
       "activities       1\n",
       "higher           1\n",
       "freetime         2\n",
       "Walc             1\n",
       "absences         2\n",
       "G1              15\n",
       "G2              14\n",
       "G3              15\n",
       "qual_student     1\n",
       "Name: 3, dtype: int64"
      ]
     },
     "execution_count": 86,
     "metadata": {},
     "output_type": "execute_result"
    }
   ],
   "source": [
    "df.loc[3]"
   ]
  },
  {
   "cell_type": "code",
   "execution_count": null,
   "metadata": {},
   "outputs": [],
   "source": [
    "{ 'age' : 1 ,'health' : 15 ,'absences' : 10}"
   ]
  },
  {
   "cell_type": "code",
   "execution_count": 87,
   "metadata": {
    "scrolled": true
   },
   "outputs": [],
   "source": [
    "pred = clf.predict_proba(query_df)\n"
   ]
  },
  {
   "cell_type": "code",
   "execution_count": 88,
   "metadata": {},
   "outputs": [
    {
     "data": {
      "text/plain": [
       "array([[0.895, 0.105]])"
      ]
     },
     "execution_count": 88,
     "metadata": {},
     "output_type": "execute_result"
    }
   ],
   "source": [
    "pred"
   ]
  },
  {
   "cell_type": "code",
   "execution_count": null,
   "metadata": {},
   "outputs": [],
   "source": [
    "pred[0]"
   ]
  },
  {
   "cell_type": "code",
   "execution_count": null,
   "metadata": {},
   "outputs": [],
   "source": [
    "df_raw = pd.read_csv('data/student-mat.csv', sep=';')"
   ]
  },
  {
   "cell_type": "code",
   "execution_count": null,
   "metadata": {},
   "outputs": [],
   "source": [
    "df_raw.drop(columns=['G1', 'G2', 'G3'] + unethical_features)"
   ]
  },
  {
   "cell_type": "code",
   "execution_count": null,
   "metadata": {},
   "outputs": [],
   "source": [
    "df_raw2 = df_raw.copy()"
   ]
  },
  {
   "cell_type": "code",
   "execution_count": null,
   "metadata": {},
   "outputs": [],
   "source": [
    "query_df = pd.DataFrame({ 'age' : pd.Series(age) ,'health' : pd.Series(health) ,'absences' : pd.Series(absences)})"
   ]
  },
  {
   "cell_type": "markdown",
   "metadata": {
    "tags": []
   },
   "source": [
    "# Todo/Extensions\n",
    "\n",
    "Urgent (rest of 4b):\n",
    "- solidify conclusion\n",
    "- finish readme\n",
    "- api documentation\n",
    "- deployment instructions\n",
    "- exlpanation & justification of testing\n",
    "\n",
    "\n",
    "Nice to have (for modeling) [but probably not in the scope of this assignment]:\n",
    "- more EDA \n",
    "- more feature engineering\n",
    "- hyperparameter tuning (gridsearchCV?)\n",
    "- improve model :) "
   ]
  },
  {
   "cell_type": "markdown",
   "metadata": {},
   "source": [
    "# Dump"
   ]
  },
  {
   "cell_type": "code",
   "execution_count": null,
   "metadata": {},
   "outputs": [],
   "source": [
    "# encoded_cat_vars = pd.concat(encoded_cat_vars, axis = 1)"
   ]
  },
  {
   "cell_type": "code",
   "execution_count": null,
   "metadata": {},
   "outputs": [],
   "source": [
    "# encoded_cat_vars"
   ]
  },
  {
   "cell_type": "code",
   "execution_count": null,
   "metadata": {
    "tags": []
   },
   "outputs": [],
   "source": [
    "# Summary of the data\n",
    "\n",
    "# df.describe()\n",
    "\n",
    "# df.info\n",
    "\n",
    "# Create a subset of features as an example.\n",
    "\n",
    "# # include = ['health', 'absences','age','G3']\n",
    "# # df.drop(columns=df.columns.difference(include), inplace=True)  # only using 3 features\n",
    "\n",
    "# The goal is to predict the quality of the student. We will build a predictor based on the final grade (G3).\n",
    "# Becasue we are trying to find quality students. In this model we define a quality student as one who achieves a final grade of 15 or higher. \n",
    "\n",
    "# df['qual_student'] = np.where(df['G3']>=15, 1, 0)\n",
    "\n",
    "# df.describe()\n",
    "\n",
    "# Drop the G3 score\n",
    "\n",
    "# # include = ['health', 'absences','age','qual_student']\n",
    "# # df.drop(columns=df.columns.difference(include), inplace=True) \n",
    "\n",
    "# Import scikit-learn and build a random forest classifer\n",
    "\n",
    "# df.columns\n",
    "\n",
    "# features = [x for x in df.columns if x != 'qual_student']\n",
    "\n",
    "# import pandas as pd\n",
    "# from sklearn.model_selection import train_test_split\n",
    "# from sklearn.impute import SimpleImputer\n",
    "# # imputer = SimpleImputer(missing_values=np.nan, strategy='mean')\n",
    "\n",
    "# # data = pd.read_csv('../input/train.csv')\n",
    "# # data.dropna(axis=0, subset=['SalePrice'], inplace=True)\n",
    "\n",
    "# y = df.qual_student\n",
    "# X = df.drop(['qual_student'], axis=1).select_dtypes(exclude=['object'])\n",
    "# train_X, test_X, train_y, test_y = train_test_split(X, y, test_size=0.25)\n",
    "\n",
    "# my_imputer = SimpleImputer()\n",
    "# train_X = my_imputer.fit_transform(train_X)\n",
    "# test_X = my_imputer.transform(test_X)\n",
    "\n",
    "\n",
    "# from xgboost import XGBRegressor\n",
    "\n",
    "# my_model = XGBRegressor()\n",
    "# # Add silent=True to avoid printing out updates with each cycle\n",
    "# my_model.fit(train_X, train_y, verbose=False)\n",
    "\n",
    "# from sklearn.ensemble import RandomForestClassifier as rf\n",
    "# import sklearn\n",
    "# # dependent_variable = 'qual_student'\n",
    "# # # x = df[df.columns.difference([dependent_variable])]\n",
    "# # # x = df.drop([dependent_variable], axis=1).select_dtypes(exclude=['object'])\n",
    "# # y = df[dependent_variable]\n",
    "# clf = rf(n_estimators = 1000)\n",
    "# clf.fit(train_X, train_y)\n",
    "\n",
    "# pred = clf.predict(test_X)\n",
    "# sklearn.metrics.f1_score(test_y, pred, average='binary')\n",
    "\n",
    "# It's not very good! We didn't even cross validate. You'll need to do better :)\n",
    "# Let's export this model so we can use it in a microservice (flask api)\n",
    "\n",
    "# from xgboost import cv\n",
    "\n",
    "# params = {\"objective\":\"binary:logistic\",'colsample_bytree': 0.3,'learning_rate': 0.1,\n",
    "#                 'max_depth': 5, 'alpha': 10}\n",
    "\n",
    "# xgb_cv = cv(dtrain=data_dmatrixn_X, params=params, nfold=3,\n",
    "#                     num_boost_round=50, early_stopping_rounds=10, metrics=\"auc\", as_pandas=True, seed=123)\n",
    "\n",
    "\n",
    "\n",
    "# import joblib\n",
    "# # modify the file path to where you want to save the model\n",
    "# joblib.dump(clf, 'home/matrix/dockerfile/apps/model.pkl')\n",
    "\n",
    "# query_df = pd.DataFrame({ 'age' : pd.Series(1) ,'health' : pd.Series(15) ,'absences' : pd.Series(10)})\n",
    "\n",
    "# pred = clf.predict(query_df)\n",
    "\n",
    "# x\n",
    "\n",
    "# type(x)"
   ]
  }
 ],
 "metadata": {
  "interpreter": {
   "hash": "aee8b7b246df8f9039afb4144a1f6fd8d2ca17a180786b69acc140d282b71a49"
  },
  "kernelspec": {
   "display_name": "Python 3 (ipykernel)",
   "language": "python",
   "name": "python3"
  },
  "language_info": {
   "codemirror_mode": {
    "name": "ipython",
    "version": 3
   },
   "file_extension": ".py",
   "mimetype": "text/x-python",
   "name": "python",
   "nbconvert_exporter": "python",
   "pygments_lexer": "ipython3",
   "version": "3.7.7"
  }
 },
 "nbformat": 4,
 "nbformat_minor": 4
}
